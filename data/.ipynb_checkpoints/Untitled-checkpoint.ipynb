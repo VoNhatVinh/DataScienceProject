{
 "cells": [
  {
   "cell_type": "code",
   "execution_count": 4,
   "metadata": {},
   "outputs": [
    {
     "ename": "SyntaxError",
     "evalue": "invalid syntax (<ipython-input-4-781aaeb87f4e>, line 13)",
     "output_type": "error",
     "traceback": [
      "\u001b[1;36m  File \u001b[1;32m\"<ipython-input-4-781aaeb87f4e>\"\u001b[1;36m, line \u001b[1;32m13\u001b[0m\n\u001b[1;33m    import warnings.filterwarnings('ignores')\u001b[0m\n\u001b[1;37m                                  ^\u001b[0m\n\u001b[1;31mSyntaxError\u001b[0m\u001b[1;31m:\u001b[0m invalid syntax\n"
     ]
    }
   ],
   "source": [
    "import pandas as pd\n",
    "import numpy as np\n",
    "import missingno as msn\n",
    "\n",
    "from sklearn.preprocessing import OneHotEncoder, StandardScaler\n",
    "from sklearn.base import BaseEstimator, TransformerMixin\n",
    "from sklearn.pipeline import Pipeline\n",
    "from sklearn.compose import ColumnTransformer\n",
    "from sklearn.neural_network import MLPClassifier\n",
    "from sklearn.tree import DecisionTreeClassifier\n",
    "from sklearn.neighbors import KNeighborsClassifier\n",
    "from sklearn.linear_model import LogisticRegression\n",
    "import warnings.filterwarnings('ignores')\n"
   ]
  },
  {
   "cell_type": "code",
   "execution_count": null,
   "metadata": {},
   "outputs": [],
   "source": [
    "train = pd.read_csv('train.csv')\n",
    "train.sample(1)"
   ]
  },
  {
   "cell_type": "code",
   "execution_count": null,
   "metadata": {
    "scrolled": true
   },
   "outputs": [],
   "source": [
    "#train['price'] = train['price']/1e8#chia cho 100.000.000\n",
    "#Từ đây ta lọc giá dưới 100 triệu, rồi vẽ\n",
    "\n",
    "train = train[train.price>=1e8] \n",
    "train = train[train.price<=2e10]\n",
    "train['price'].describe()"
   ]
  },
  {
   "cell_type": "code",
   "execution_count": 2,
   "metadata": {},
   "outputs": [
    {
     "ename": "NameError",
     "evalue": "name 'train' is not defined",
     "output_type": "error",
     "traceback": [
      "\u001b[1;31m---------------------------------------------------------------------------\u001b[0m",
      "\u001b[1;31mNameError\u001b[0m                                 Traceback (most recent call last)",
      "\u001b[1;32m<ipython-input-2-5de163738050>\u001b[0m in \u001b[0;36m<module>\u001b[1;34m\u001b[0m\n\u001b[0;32m      1\u001b[0m \u001b[1;32mimport\u001b[0m \u001b[0mseaborn\u001b[0m \u001b[1;32mas\u001b[0m \u001b[0msns\u001b[0m\u001b[1;33m\u001b[0m\u001b[1;33m\u001b[0m\u001b[0m\n\u001b[1;32m----> 2\u001b[1;33m \u001b[0msns\u001b[0m\u001b[1;33m.\u001b[0m\u001b[0mkdeplot\u001b[0m\u001b[1;33m(\u001b[0m\u001b[0mtrain\u001b[0m\u001b[1;33m.\u001b[0m\u001b[0mprice\u001b[0m\u001b[1;33m)\u001b[0m\u001b[1;33m\u001b[0m\u001b[1;33m\u001b[0m\u001b[0m\n\u001b[0m",
      "\u001b[1;31mNameError\u001b[0m: name 'train' is not defined"
     ]
    }
   ],
   "source": [
    "import seaborn as sns\n",
    "sns.kdeplot(train.price)"
   ]
  },
  {
   "cell_type": "code",
   "execution_count": null,
   "metadata": {},
   "outputs": [],
   "source": [
    "x = train.price.describe()"
   ]
  },
  {
   "cell_type": "code",
   "execution_count": null,
   "metadata": {},
   "outputs": [],
   "source": [
    "class CatePriceDrop(BaseEstimator, TransformerMixin):\n",
    "    def fit(self, X_df, y=None):\n",
    "        train = X_df\n",
    "        train = train[train.price>=1e8] \n",
    "        train = train[train.price<=2e10]\n",
    "        details = train.price.describe()\n",
    "        \n",
    "        self._25 = details['25%']\n",
    "        self._50 = details['50%']\n",
    "        self._75 = details['75%']\n",
    "        return self\n",
    "    \n",
    "    def to_cate(self, x):\n",
    "        if x < self._25:\n",
    "            return 1\n",
    "        if x < self._50:\n",
    "            return 2\n",
    "        if x < self._75:\n",
    "            return 3\n",
    "        return 4\n",
    "    \n",
    "#     def transform(self, X_df, y=None):\n",
    "#         res_df = X_df.copy()\n",
    "#         res_df['label'] = res_df['price'].apply(lambda x: self.to_cate(x))\n",
    "#         res_df['type'] = res_df['type'].apply(lambda x: x if x == 'Môi giới' else 'Khác')\n",
    "#         res_df.drop(columns=['price','time','link','address',\n",
    "#                              'title','city','description',\n",
    "#                              'block_name','total_floor','direction'], inplace=True)\n",
    "    def transform(self, X_df, y=None):\n",
    "        res_df = X_df.copy()\n",
    "        res_df['label'] = res_df['price'].apply(lambda x: self.to_cate(x))\n",
    "        res_df['type'] = res_df['type'].apply(lambda x: x if x == 'Môi giới' else 'Khác')\n",
    "        res_df.drop(columns=['price','time','link','address',\n",
    "                             'title','city','description','block_name', 'direction', 'total_floor'\n",
    "                             ], inplace=True)\n",
    "        return res_df"
   ]
  },
  {
   "cell_type": "code",
   "execution_count": null,
   "metadata": {},
   "outputs": [],
   "source": [
    "cate = CatePriceDrop()\n",
    "train_transform = cate.fit_transform(train)\n",
    "train_transform.sample(1)"
   ]
  },
  {
   "cell_type": "code",
   "execution_count": null,
   "metadata": {},
   "outputs": [],
   "source": [
    "msn.bar(train_transform)"
   ]
  },
  {
   "cell_type": "code",
   "execution_count": null,
   "metadata": {},
   "outputs": [],
   "source": [
    "train_transform.toilet_num.describe()"
   ]
  },
  {
   "cell_type": "code",
   "execution_count": null,
   "metadata": {},
   "outputs": [],
   "source": [
    "#train_transform.total_floor.describe()"
   ]
  },
  {
   "cell_type": "code",
   "execution_count": null,
   "metadata": {},
   "outputs": [],
   "source": [
    "train_transform.legcal_doc.describe()"
   ]
  },
  {
   "cell_type": "code",
   "execution_count": null,
   "metadata": {},
   "outputs": [],
   "source": [
    "train_transform.legcal_doc.unique()"
   ]
  },
  {
   "cell_type": "code",
   "execution_count": null,
   "metadata": {},
   "outputs": [],
   "source": [
    "train_transform.housing_feature.describe()"
   ]
  },
  {
   "cell_type": "code",
   "execution_count": null,
   "metadata": {},
   "outputs": [],
   "source": [
    "train_transform.housing_feature.unique()"
   ]
  },
  {
   "cell_type": "markdown",
   "metadata": {},
   "source": [
    "- Fill `toilet_num` nan with `0.0`\n",
    "- Fill `legcal_doc` nan with `Không có`\n",
    "- Fill `housing_feature` nan with `Khác`\n",
    "- Fill `bedroom_num` nan with `0.0`\n",
    "- Fill `house_type` nan with `Khác`\n",
    "- Fill `district`, `ward` and `street` nan with most_frequence"
   ]
  },
  {
   "cell_type": "code",
   "execution_count": null,
   "metadata": {},
   "outputs": [],
   "source": [
    "class FillNA(BaseEstimator, TransformerMixin):\n",
    "    def fit(self, X_df, y=None):\n",
    "        mode_street = X_df.street.describe()['top']\n",
    "        mode_district = X_df.district.describe()['top']\n",
    "        mode_ward = X_df.ward.describe()['top']\n",
    "        #mode_total_floor= X_df.total_floor.describe()['top']\n",
    "        self.mode_cols = {'street': mode_street, \n",
    "                          'district': mode_district, \n",
    "                          'ward': mode_ward}\n",
    "        return self\n",
    "    \n",
    "    def transform(self, X_df, y=None):\n",
    "        res_df = X_df.copy()\n",
    "        other_cols = ['housing_feature', 'house_type']\n",
    "        _0_cols = ['bedroom_num', 'toilet_num']\n",
    "        for i in self.mode_cols:\n",
    "            j = self.mode_cols[i]\n",
    "            res_df[i].fillna(j, inplace=True)\n",
    "        for i in other_cols:\n",
    "            res_df[i].fillna('Khác',inplace=True)\n",
    "        for i in _0_cols:\n",
    "            res_df[i].fillna(0.0,inplace=True)\n",
    "        res_df['legcal_doc'].fillna('Không có', inplace=True)\n",
    "        return res_df"
   ]
  },
  {
   "cell_type": "code",
   "execution_count": null,
   "metadata": {},
   "outputs": [],
   "source": [
    "fillna = FillNA()\n",
    "train_pre = fillna.fit_transform(train_transform)"
   ]
  },
  {
   "cell_type": "code",
   "execution_count": null,
   "metadata": {},
   "outputs": [],
   "source": [
    "msn.bar(train_pre)"
   ]
  },
  {
   "cell_type": "code",
   "execution_count": null,
   "metadata": {},
   "outputs": [],
   "source": [
    "cate_cols = ['type', 'house_type', 'legcal_doc', 'housing_feature', 'district', 'ward', 'street']\n",
    "\n",
    "scaler = StandardScaler()\n",
    "\n",
    "pp = Pipeline(steps=[('to_cate', CatePriceDrop()), ('FillNA', FillNA())])\n",
    "train_preprocess = pp.fit_transform(train)\n",
    "trainY = train_preprocess['label'].values\n",
    "trainX = train_preprocess.drop(columns=['label'])\n",
    "onehot = OneHotEncoder(handle_unknown='ignore')\n",
    "trainX = onehot.fit_transform(trainX).toarray()\n",
    "trainX_Scale = scaler.fit_transform(trainX)"
   ]
  },
  {
   "cell_type": "code",
   "execution_count": null,
   "metadata": {},
   "outputs": [],
   "source": [
    "test = pd.read_csv('test.csv')\n",
    "test_preprocess = pp.transform(test)\n",
    "testY = test_preprocess['label'].values\n",
    "testX = test_preprocess.drop(columns=['label'])\n",
    "testX = onehot.transform(testX).toarray()\n",
    "testX_Scale = scaler.transform(testX)"
   ]
  },
  {
   "cell_type": "code",
   "execution_count": null,
   "metadata": {},
   "outputs": [],
   "source": [
    "from sklearn.ensemble import RandomForestClassifier\n",
    "\n",
    "clfs = [MLPClassifier(hidden_layer_sizes=5,tol=1e-3), RandomForestClassifier(n_jobs=4),\n",
    "        LogisticRegression(), KNeighborsClassifier()]\n",
    "#clfs = [RandomForestClassifier()]\n",
    "for clf in clfs:\n",
    "    print(clf)\n",
    "    clf.fit(trainX_Scale, trainY)\n",
    "    %time\n",
    "    print('Train score:', clf.score(trainX_Scale, trainY))\n",
    "    print('Test score:', clf.score(testX_Scale, testY))"
   ]
  },
  {
   "cell_type": "code",
   "execution_count": null,
   "metadata": {},
   "outputs": [],
   "source": []
  }
 ],
 "metadata": {
  "kernelspec": {
   "display_name": "Python 3",
   "language": "python",
   "name": "python3"
  },
  "language_info": {
   "codemirror_mode": {
    "name": "ipython",
    "version": 3
   },
   "file_extension": ".py",
   "mimetype": "text/x-python",
   "name": "python",
   "nbconvert_exporter": "python",
   "pygments_lexer": "ipython3",
   "version": "3.7.1"
  }
 },
 "nbformat": 4,
 "nbformat_minor": 4
}
