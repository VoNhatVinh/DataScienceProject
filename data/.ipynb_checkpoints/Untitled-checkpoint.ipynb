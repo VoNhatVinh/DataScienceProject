{
 "cells": [
  {
   "cell_type": "code",
   "execution_count": 66,
   "metadata": {},
   "outputs": [],
   "source": [
    "import pandas as pd\n",
    "import numpy as np\n",
    "import missingno as msn\n",
    "\n",
    "from sklearn.preprocessing import OneHotEncoder, StandardScaler\n",
    "from sklearn.base import BaseEstimator, TransformerMixin\n",
    "from sklearn.pipeline import Pipeline\n",
    "from sklearn.compose import ColumnTransformer\n",
    "from sklearn.neural_network import MLPClassifier\n",
    "from sklearn.tree import DecisionTreeClassifier\n",
    "from sklearn.neighbors import KNeighborsClassifier\n",
    "from sklearn.linear_model import LogisticRegression"
   ]
  },
  {
   "cell_type": "code",
   "execution_count": 2,
   "metadata": {},
   "outputs": [
    {
     "data": {
      "text/html": [
       "<div>\n",
       "<style scoped>\n",
       "    .dataframe tbody tr th:only-of-type {\n",
       "        vertical-align: middle;\n",
       "    }\n",
       "\n",
       "    .dataframe tbody tr th {\n",
       "        vertical-align: top;\n",
       "    }\n",
       "\n",
       "    .dataframe thead th {\n",
       "        text-align: right;\n",
       "    }\n",
       "</style>\n",
       "<table border=\"1\" class=\"dataframe\">\n",
       "  <thead>\n",
       "    <tr style=\"text-align: right;\">\n",
       "      <th></th>\n",
       "      <th>price</th>\n",
       "      <th>type</th>\n",
       "      <th>time</th>\n",
       "      <th>link</th>\n",
       "      <th>address</th>\n",
       "      <th>title</th>\n",
       "      <th>area</th>\n",
       "      <th>bedroom_num</th>\n",
       "      <th>house_type</th>\n",
       "      <th>toilet_num</th>\n",
       "      <th>direction</th>\n",
       "      <th>legcal_doc</th>\n",
       "      <th>block_name</th>\n",
       "      <th>total_floor</th>\n",
       "      <th>housing_feature</th>\n",
       "      <th>city</th>\n",
       "      <th>district</th>\n",
       "      <th>ward</th>\n",
       "      <th>street</th>\n",
       "      <th>description</th>\n",
       "    </tr>\n",
       "  </thead>\n",
       "  <tbody>\n",
       "    <tr>\n",
       "      <th>11179</th>\n",
       "      <td>2.200000e+09</td>\n",
       "      <td>Môi giới</td>\n",
       "      <td>11/4/2019 18:08</td>\n",
       "      <td>https://nha.chotot.com//tp-ho-chi-minh/huyen-b...</td>\n",
       "      <td>11/15, Đường Đinh Đức Thiện, Xã Bình Chánh, Hu...</td>\n",
       "      <td>Nhà cấp 4 có lửng 118m2 hẻm xe hơi, chợ bình c...</td>\n",
       "      <td>118.0</td>\n",
       "      <td>2.0</td>\n",
       "      <td>Nhà</td>\n",
       "      <td>1.0</td>\n",
       "      <td>NaN</td>\n",
       "      <td>Đang chờ bàn giao sổ</td>\n",
       "      <td>NaN</td>\n",
       "      <td>1</td>\n",
       "      <td>Nở hậu</td>\n",
       "      <td>Tp Hồ Chí Minh</td>\n",
       "      <td>Huyện Bình Chánh</td>\n",
       "      <td>Xã Bình Chánh</td>\n",
       "      <td>Đường Đinh Đức Thiện</td>\n",
       "      <td>Dự án: Nhà dân ở.\\nThông tin chi tiết: Nhà sát...</td>\n",
       "    </tr>\n",
       "    <tr>\n",
       "      <th>9501</th>\n",
       "      <td>8.300000e+09</td>\n",
       "      <td>Huỳnh Khánh</td>\n",
       "      <td>11/21/2019 13:34</td>\n",
       "      <td>https://nha.chotot.com//tp-ho-chi-minh/quan-7/...</td>\n",
       "      <td>Đường Lâm Văn Bền, Phường Tân Kiểng, Quận 7, T...</td>\n",
       "      <td>Góc bán nhà !!! Cần bán gấp căn nhà địa chỉ 62...</td>\n",
       "      <td>60.0</td>\n",
       "      <td>4.0</td>\n",
       "      <td>Nhà</td>\n",
       "      <td>4.0</td>\n",
       "      <td>NaN</td>\n",
       "      <td>Đã có sổ đỏ/sổ hồng</td>\n",
       "      <td>NaN</td>\n",
       "      <td>4</td>\n",
       "      <td>Hẻm xe hơi</td>\n",
       "      <td>Tp Hồ Chí Minh</td>\n",
       "      <td>Quận 7</td>\n",
       "      <td>Phường Tân Kiểng</td>\n",
       "      <td>Đường Lâm Văn Bền</td>\n",
       "      <td>Cần bán gấp căn nhà địa chỉ 62 Lâm Văn Bền Phư...</td>\n",
       "    </tr>\n",
       "    <tr>\n",
       "      <th>3211</th>\n",
       "      <td>6.900000e+09</td>\n",
       "      <td>Anh Huấn</td>\n",
       "      <td>11/21/2019 10:40</td>\n",
       "      <td>https://nha.chotot.com//tp-ho-chi-minh/quan-ph...</td>\n",
       "      <td>120/86/14, Đường Thích Quảng Đức, Phường 5, Qu...</td>\n",
       "      <td>Nhà 42m² Thích Quảng Đức Phú Nhuận</td>\n",
       "      <td>42.0</td>\n",
       "      <td>6.0</td>\n",
       "      <td>Nhà</td>\n",
       "      <td>4.0</td>\n",
       "      <td>NaN</td>\n",
       "      <td>Đã có sổ đỏ/sổ hồng</td>\n",
       "      <td>NaN</td>\n",
       "      <td>3</td>\n",
       "      <td>Hẻm xe hơi</td>\n",
       "      <td>Tp Hồ Chí Minh</td>\n",
       "      <td>Quận Phú Nhuận</td>\n",
       "      <td>Phường 5</td>\n",
       "      <td>Đường Thích Quảng Đức</td>\n",
       "      <td>chính chủ bán căn 120/86/14 Thích Quảng Đức,ph...</td>\n",
       "    </tr>\n",
       "  </tbody>\n",
       "</table>\n",
       "</div>"
      ],
      "text/plain": [
       "              price         type              time  \\\n",
       "11179  2.200000e+09     Môi giới   11/4/2019 18:08   \n",
       "9501   8.300000e+09  Huỳnh Khánh  11/21/2019 13:34   \n",
       "3211   6.900000e+09     Anh Huấn  11/21/2019 10:40   \n",
       "\n",
       "                                                    link  \\\n",
       "11179  https://nha.chotot.com//tp-ho-chi-minh/huyen-b...   \n",
       "9501   https://nha.chotot.com//tp-ho-chi-minh/quan-7/...   \n",
       "3211   https://nha.chotot.com//tp-ho-chi-minh/quan-ph...   \n",
       "\n",
       "                                                 address  \\\n",
       "11179  11/15, Đường Đinh Đức Thiện, Xã Bình Chánh, Hu...   \n",
       "9501   Đường Lâm Văn Bền, Phường Tân Kiểng, Quận 7, T...   \n",
       "3211   120/86/14, Đường Thích Quảng Đức, Phường 5, Qu...   \n",
       "\n",
       "                                                   title   area  bedroom_num  \\\n",
       "11179  Nhà cấp 4 có lửng 118m2 hẻm xe hơi, chợ bình c...  118.0          2.0   \n",
       "9501   Góc bán nhà !!! Cần bán gấp căn nhà địa chỉ 62...   60.0          4.0   \n",
       "3211                  Nhà 42m² Thích Quảng Đức Phú Nhuận   42.0          6.0   \n",
       "\n",
       "      house_type  toilet_num direction            legcal_doc block_name  \\\n",
       "11179        Nhà         1.0       NaN  Đang chờ bàn giao sổ        NaN   \n",
       "9501         Nhà         4.0       NaN   Đã có sổ đỏ/sổ hồng        NaN   \n",
       "3211         Nhà         4.0       NaN   Đã có sổ đỏ/sổ hồng        NaN   \n",
       "\n",
       "      total_floor housing_feature            city          district  \\\n",
       "11179           1          Nở hậu  Tp Hồ Chí Minh  Huyện Bình Chánh   \n",
       "9501            4      Hẻm xe hơi  Tp Hồ Chí Minh            Quận 7   \n",
       "3211            3      Hẻm xe hơi  Tp Hồ Chí Minh    Quận Phú Nhuận   \n",
       "\n",
       "                   ward                 street  \\\n",
       "11179     Xã Bình Chánh   Đường Đinh Đức Thiện   \n",
       "9501   Phường Tân Kiểng      Đường Lâm Văn Bền   \n",
       "3211           Phường 5  Đường Thích Quảng Đức   \n",
       "\n",
       "                                             description  \n",
       "11179  Dự án: Nhà dân ở.\\nThông tin chi tiết: Nhà sát...  \n",
       "9501   Cần bán gấp căn nhà địa chỉ 62 Lâm Văn Bền Phư...  \n",
       "3211   chính chủ bán căn 120/86/14 Thích Quảng Đức,ph...  "
      ]
     },
     "execution_count": 2,
     "metadata": {},
     "output_type": "execute_result"
    }
   ],
   "source": [
    "train = pd.read_csv('train.csv')\n",
    "train.sample(3)"
   ]
  },
  {
   "cell_type": "code",
   "execution_count": 3,
   "metadata": {},
   "outputs": [],
   "source": [
    "x = train.price.describe()"
   ]
  },
  {
   "cell_type": "code",
   "execution_count": 4,
   "metadata": {},
   "outputs": [],
   "source": [
    "class CatePriceDrop(BaseEstimator, TransformerMixin):\n",
    "    def fit(self, X_df, y=None):\n",
    "        details = X_df.price.describe()\n",
    "        self._25 = details['25%']\n",
    "        self._50 = details['50%']\n",
    "        self._75 = details['75%']\n",
    "        return self\n",
    "    \n",
    "    def to_cate(self, x):\n",
    "        if x < self._25:\n",
    "            return 1\n",
    "        if x < self._50:\n",
    "            return 2\n",
    "        if x < self._75:\n",
    "            return 3\n",
    "        return 4\n",
    "    \n",
    "    def transform(self, X_df, y=None):\n",
    "        res_df = X_df.copy()\n",
    "        res_df['label'] = res_df['price'].apply(lambda x: self.to_cate(x))\n",
    "        res_df['type'] = res_df['type'].apply(lambda x: x if x == 'Môi giới' else 'Khác')\n",
    "        res_df.drop(columns=['price','time','link','address',\n",
    "                             'title','city','description',\n",
    "                             'block_name','total_floor','direction'], inplace=True)\n",
    "        return res_df"
   ]
  },
  {
   "cell_type": "code",
   "execution_count": 5,
   "metadata": {},
   "outputs": [
    {
     "data": {
      "text/html": [
       "<div>\n",
       "<style scoped>\n",
       "    .dataframe tbody tr th:only-of-type {\n",
       "        vertical-align: middle;\n",
       "    }\n",
       "\n",
       "    .dataframe tbody tr th {\n",
       "        vertical-align: top;\n",
       "    }\n",
       "\n",
       "    .dataframe thead th {\n",
       "        text-align: right;\n",
       "    }\n",
       "</style>\n",
       "<table border=\"1\" class=\"dataframe\">\n",
       "  <thead>\n",
       "    <tr style=\"text-align: right;\">\n",
       "      <th></th>\n",
       "      <th>type</th>\n",
       "      <th>area</th>\n",
       "      <th>bedroom_num</th>\n",
       "      <th>house_type</th>\n",
       "      <th>toilet_num</th>\n",
       "      <th>legcal_doc</th>\n",
       "      <th>housing_feature</th>\n",
       "      <th>district</th>\n",
       "      <th>ward</th>\n",
       "      <th>street</th>\n",
       "      <th>label</th>\n",
       "    </tr>\n",
       "  </thead>\n",
       "  <tbody>\n",
       "    <tr>\n",
       "      <th>6610</th>\n",
       "      <td>Môi giới</td>\n",
       "      <td>20.0</td>\n",
       "      <td>2.0</td>\n",
       "      <td>Nhà</td>\n",
       "      <td>1.0</td>\n",
       "      <td>Đã có sổ đỏ/sổ hồng</td>\n",
       "      <td>Nở hậu</td>\n",
       "      <td>Quận 1</td>\n",
       "      <td>Phường Tân Định</td>\n",
       "      <td>NaN</td>\n",
       "      <td>4</td>\n",
       "    </tr>\n",
       "    <tr>\n",
       "      <th>10128</th>\n",
       "      <td>Môi giới</td>\n",
       "      <td>80.0</td>\n",
       "      <td>2.0</td>\n",
       "      <td>Nhà</td>\n",
       "      <td>1.0</td>\n",
       "      <td>Đã có sổ đỏ/sổ hồng</td>\n",
       "      <td>NaN</td>\n",
       "      <td>Huyện Hóc Môn</td>\n",
       "      <td>Xã Tân Thới Nhì</td>\n",
       "      <td>Đường Dương Công Khi</td>\n",
       "      <td>1</td>\n",
       "    </tr>\n",
       "    <tr>\n",
       "      <th>10384</th>\n",
       "      <td>Khác</td>\n",
       "      <td>100.0</td>\n",
       "      <td>3.0</td>\n",
       "      <td>Nhà</td>\n",
       "      <td>NaN</td>\n",
       "      <td>NaN</td>\n",
       "      <td>NaN</td>\n",
       "      <td>Huyện Bình Chánh</td>\n",
       "      <td>Xã An Phú Tây</td>\n",
       "      <td>Đường Đinh Đức Thiện</td>\n",
       "      <td>1</td>\n",
       "    </tr>\n",
       "    <tr>\n",
       "      <th>1965</th>\n",
       "      <td>Môi giới</td>\n",
       "      <td>72.0</td>\n",
       "      <td>2.0</td>\n",
       "      <td>Nhà</td>\n",
       "      <td>3.0</td>\n",
       "      <td>Đã có sổ đỏ/sổ hồng</td>\n",
       "      <td>Nở hậu</td>\n",
       "      <td>Quận 8</td>\n",
       "      <td>Phường 15</td>\n",
       "      <td>Đường Lê Thành Phương</td>\n",
       "      <td>2</td>\n",
       "    </tr>\n",
       "    <tr>\n",
       "      <th>8534</th>\n",
       "      <td>Môi giới</td>\n",
       "      <td>40.0</td>\n",
       "      <td>2.0</td>\n",
       "      <td>Nhà</td>\n",
       "      <td>2.0</td>\n",
       "      <td>Đã có sổ đỏ/sổ hồng</td>\n",
       "      <td>NaN</td>\n",
       "      <td>Huyện Nhà Bè</td>\n",
       "      <td>Xã Phước Kiển</td>\n",
       "      <td>Đường Lê Văn Lương</td>\n",
       "      <td>2</td>\n",
       "    </tr>\n",
       "  </tbody>\n",
       "</table>\n",
       "</div>"
      ],
      "text/plain": [
       "           type   area  bedroom_num house_type  toilet_num  \\\n",
       "6610   Môi giới   20.0          2.0        Nhà         1.0   \n",
       "10128  Môi giới   80.0          2.0        Nhà         1.0   \n",
       "10384      Khác  100.0          3.0        Nhà         NaN   \n",
       "1965   Môi giới   72.0          2.0        Nhà         3.0   \n",
       "8534   Môi giới   40.0          2.0        Nhà         2.0   \n",
       "\n",
       "                legcal_doc housing_feature          district             ward  \\\n",
       "6610   Đã có sổ đỏ/sổ hồng          Nở hậu            Quận 1  Phường Tân Định   \n",
       "10128  Đã có sổ đỏ/sổ hồng             NaN     Huyện Hóc Môn  Xã Tân Thới Nhì   \n",
       "10384                  NaN             NaN  Huyện Bình Chánh    Xã An Phú Tây   \n",
       "1965   Đã có sổ đỏ/sổ hồng          Nở hậu            Quận 8        Phường 15   \n",
       "8534   Đã có sổ đỏ/sổ hồng             NaN      Huyện Nhà Bè    Xã Phước Kiển   \n",
       "\n",
       "                      street  label  \n",
       "6610                     NaN      4  \n",
       "10128   Đường Dương Công Khi      1  \n",
       "10384   Đường Đinh Đức Thiện      1  \n",
       "1965   Đường Lê Thành Phương      2  \n",
       "8534      Đường Lê Văn Lương      2  "
      ]
     },
     "execution_count": 5,
     "metadata": {},
     "output_type": "execute_result"
    }
   ],
   "source": [
    "cate = CatePriceDrop()\n",
    "train_transform = cate.fit_transform(train)\n",
    "train_transform.sample(5)"
   ]
  },
  {
   "cell_type": "code",
   "execution_count": 6,
   "metadata": {},
   "outputs": [
    {
     "data": {
      "text/plain": [
       "<matplotlib.axes._subplots.AxesSubplot at 0x7f4a17f0f110>"
      ]
     },
     "execution_count": 6,
     "metadata": {},
     "output_type": "execute_result"
    },
    {
     "data": {
      "image/png": "[encoded data removed]",
      "text/plain": [
       "<Figure size 1728x720 with 3 Axes>"
      ]
     },
     "metadata": {
      "needs_background": "light"
     },
     "output_type": "display_data"
    }
   ],
   "source": [
    "msn.bar(train_transform)"
   ]
  },
  {
   "cell_type": "code",
   "execution_count": 7,
   "metadata": {},
   "outputs": [
    {
     "data": {
      "text/plain": [
       "count    11504.000000\n",
       "mean         2.873001\n",
       "std          1.555417\n",
       "min          1.000000\n",
       "25%          2.000000\n",
       "50%          2.000000\n",
       "75%          4.000000\n",
       "max          7.000000\n",
       "Name: toilet_num, dtype: float64"
      ]
     },
     "execution_count": 7,
     "metadata": {},
     "output_type": "execute_result"
    }
   ],
   "source": [
    "train_transform.toilet_num.describe()"
   ]
  },
  {
   "cell_type": "code",
   "execution_count": 8,
   "metadata": {},
   "outputs": [
    {
     "data": {
      "text/plain": [
       "count                   11926\n",
       "unique                      3\n",
       "top       Đã có sổ đỏ/sổ hồng\n",
       "freq                    11392\n",
       "Name: legcal_doc, dtype: object"
      ]
     },
     "execution_count": 8,
     "metadata": {},
     "output_type": "execute_result"
    }
   ],
   "source": [
    "train_transform.legcal_doc.describe()"
   ]
  },
  {
   "cell_type": "code",
   "execution_count": 9,
   "metadata": {},
   "outputs": [
    {
     "data": {
      "text/plain": [
       "array(['Đã có sổ đỏ/sổ hồng', nan, 'Giấy tay', 'Đang chờ bàn giao sổ'],\n",
       "      dtype=object)"
      ]
     },
     "execution_count": 9,
     "metadata": {},
     "output_type": "execute_result"
    }
   ],
   "source": [
    "train_transform.legcal_doc.unique()"
   ]
  },
  {
   "cell_type": "code",
   "execution_count": 10,
   "metadata": {},
   "outputs": [
    {
     "data": {
      "text/plain": [
       "count           8239\n",
       "unique             3\n",
       "top       Hẻm xe hơi\n",
       "freq            3556\n",
       "Name: housing_feature, dtype: object"
      ]
     },
     "execution_count": 10,
     "metadata": {},
     "output_type": "execute_result"
    }
   ],
   "source": [
    "train_transform.housing_feature.describe()"
   ]
  },
  {
   "cell_type": "code",
   "execution_count": 11,
   "metadata": {},
   "outputs": [
    {
     "data": {
      "text/plain": [
       "array(['Hẻm xe hơi', nan, 'Nở hậu', 'Mặt tiền'], dtype=object)"
      ]
     },
     "execution_count": 11,
     "metadata": {},
     "output_type": "execute_result"
    }
   ],
   "source": [
    "train_transform.housing_feature.unique()"
   ]
  },
  {
   "cell_type": "markdown",
   "metadata": {},
   "source": [
    "- Fill `toilet_num` nan with `0.0`\n",
    "- Fill `legcal_doc` nan with `Không có`\n",
    "- Fill `housing_feature` nan with `Khác`\n",
    "- Fill `bedroom_num` nan with `0.0`\n",
    "- Fill `house_type` nan with `Khác`\n",
    "- Fill `district`, `ward` and `street` nan with most_frequence"
   ]
  },
  {
   "cell_type": "code",
   "execution_count": 12,
   "metadata": {},
   "outputs": [],
   "source": [
    "class FillNA(BaseEstimator, TransformerMixin):\n",
    "    def fit(self, X_df, y=None):\n",
    "        mode_street = X_df.street.describe()['top']\n",
    "        mode_district = X_df.district.describe()['top']\n",
    "        mode_ward = X_df.ward.describe()['top']\n",
    "        self.mode_cols = {'street': mode_street, \n",
    "                          'district': mode_district, \n",
    "                          'ward': mode_ward}\n",
    "        return self\n",
    "    \n",
    "    def transform(self, X_df, y=None):\n",
    "        res_df = X_df.copy()\n",
    "        other_cols = ['housing_feature', 'house_type']\n",
    "        _0_cols = ['bedroom_num', 'toilet_num']\n",
    "        for i in self.mode_cols:\n",
    "            j = self.mode_cols[i]\n",
    "            res_df[i].fillna(j, inplace=True)\n",
    "        for i in other_cols:\n",
    "            res_df[i].fillna('Khác',inplace=True)\n",
    "        for i in _0_cols:\n",
    "            res_df[i].fillna(0.0,inplace=True)\n",
    "        res_df['legcal_doc'].fillna('Không có', inplace=True)\n",
    "        return res_df"
   ]
  },
  {
   "cell_type": "code",
   "execution_count": 13,
   "metadata": {},
   "outputs": [],
   "source": [
    "fillna = FillNA()\n",
    "train_pre = fillna.fit_transform(train_transform)"
   ]
  },
  {
   "cell_type": "code",
   "execution_count": 14,
   "metadata": {},
   "outputs": [
    {
     "data": {
      "text/plain": [
       "<matplotlib.axes._subplots.AxesSubplot at 0x7f4a17db3c50>"
      ]
     },
     "execution_count": 14,
     "metadata": {},
     "output_type": "execute_result"
    },
    {
     "data": {
      "image/png": "[encoded data removed]",
      "text/plain": [
       "<Figure size 1728x720 with 3 Axes>"
      ]
     },
     "metadata": {
      "needs_background": "light"
     },
     "output_type": "display_data"
    }
   ],
   "source": [
    "msn.bar(train_pre)"
   ]
  },
  {
   "cell_type": "code",
   "execution_count": 43,
   "metadata": {},
   "outputs": [],
   "source": [
    "cate_cols = ['type', 'house_type', 'legcal_doc', 'housing_feature', 'district', 'ward', 'street']\n",
    "\n",
    "scaler = StandardScaler()\n",
    "\n",
    "pp = Pipeline(steps=[('to_cate', CatePriceDrop()), ('FillNA', FillNA())])\n",
    "train_preprocess = pp.fit_transform(train)\n",
    "trainY = train_preprocess['label'].values\n",
    "trainX = train_preprocess.drop(columns=['label'])\n",
    "onehot = OneHotEncoder(handle_unknown='ignore')\n",
    "trainX = onehot.fit_transform(trainX).toarray()\n",
    "trainX_Scale = scaler.fit_transform(trainX)"
   ]
  },
  {
   "cell_type": "code",
   "execution_count": 67,
   "metadata": {},
   "outputs": [],
   "source": [
    "test = pd.read_csv('test.csv')\n",
    "test_preprocess = pp.transform(test)\n",
    "testY = test_preprocess['label'].values\n",
    "testX = test_preprocess.drop(columns=['label'])\n",
    "testX = onehot.transform(testX).toarray()\n",
    "testX_Scale = scaler.transform(testX)"
   ]
  },
  {
   "cell_type": "code",
   "execution_count": 68,
   "metadata": {},
   "outputs": [
    {
     "name": "stderr",
     "output_type": "stream",
     "text": [
      "/usr/local/lib/python3.7/dist-packages/sklearn/neural_network/multilayer_perceptron.py:566: ConvergenceWarning: Stochastic Optimizer: Maximum iterations (200) reached and the optimization hasn't converged yet.\n",
      "  % self.max_iter, ConvergenceWarning)\n"
     ]
    },
    {
     "name": "stdout",
     "output_type": "stream",
     "text": [
      "CPU times: user 7 µs, sys: 3 µs, total: 10 µs\n",
      "Wall time: 6.2 µs\n",
      "Train score: 0.7667159867540336\n",
      "Test score: 0.5384615384615384\n",
      "CPU times: user 3 µs, sys: 1e+03 ns, total: 4 µs\n",
      "Wall time: 6.68 µs\n",
      "Train score: 0.9768195589375044\n",
      "Test score: 0.5655114116652579\n"
     ]
    },
    {
     "name": "stderr",
     "output_type": "stream",
     "text": [
      "/usr/local/lib/python3.7/dist-packages/sklearn/linear_model/logistic.py:432: FutureWarning: Default solver will be changed to 'lbfgs' in 0.22. Specify a solver to silence this warning.\n",
      "  FutureWarning)\n",
      "/usr/local/lib/python3.7/dist-packages/sklearn/linear_model/logistic.py:469: FutureWarning: Default multi_class will be changed to 'auto' in 0.22. Specify the multi_class option to silence this warning.\n",
      "  \"this warning.\", FutureWarning)\n"
     ]
    },
    {
     "name": "stdout",
     "output_type": "stream",
     "text": [
      "CPU times: user 3 µs, sys: 1e+03 ns, total: 4 µs\n",
      "Wall time: 6.68 µs\n",
      "Train score: 0.6951314028041993\n",
      "Test score: 0.5497323189630882\n",
      "CPU times: user 2 µs, sys: 0 ns, total: 2 µs\n",
      "Wall time: 5.72 µs\n",
      "Train score: 0.6243923060663708\n",
      "Test score: 0.4437869822485207\n"
     ]
    }
   ],
   "source": [
    "clfs = [MLPClassifier(hidden_layer_sizes=5), DecisionTreeClassifier(), LogisticRegression(), KNeighborsClassifier()]\n",
    "\n",
    "for clf in clfs:\n",
    "    clf.fit(trainX_Scale, trainY)\n",
    "    %time\n",
    "    print('Train score:', clf.score(trainX_Scale, trainY))\n",
    "    print('Test score:', clf.score(testX_Scale, testY))"
   ]
  }
 ],
 "metadata": {
  "kernelspec": {
   "display_name": "Python 3",
   "language": "python",
   "name": "python3"
  },
  "language_info": {
   "codemirror_mode": {
    "name": "ipython",
    "version": 3
   },
   "file_extension": ".py",
   "mimetype": "text/x-python",
   "name": "python",
   "nbconvert_exporter": "python",
   "pygments_lexer": "ipython3",
   "version": "3.7.5"
  }
 },
 "nbformat": 4,
 "nbformat_minor": 4
}
