{
 "cells": [
  {
   "cell_type": "code",
   "execution_count": 3,
   "metadata": {},
   "outputs": [],
   "source": [
    "import pandas as pd\n",
    "from sklearn.preprocessing import LabelEncoder, OneHotEncoder\n",
    "from sklearn.linear_model import LinearRegression\n",
    "from sklearn.model_selection import train_test_split\n",
    "from sklearn.tree import DecisionTreeRegressor"
   ]
  },
  {
   "cell_type": "code",
   "execution_count": 4,
   "metadata": {},
   "outputs": [
    {
     "data": {
      "text/html": [
       "<div>\n",
       "<style scoped>\n",
       "    .dataframe tbody tr th:only-of-type {\n",
       "        vertical-align: middle;\n",
       "    }\n",
       "\n",
       "    .dataframe tbody tr th {\n",
       "        vertical-align: top;\n",
       "    }\n",
       "\n",
       "    .dataframe thead th {\n",
       "        text-align: right;\n",
       "    }\n",
       "</style>\n",
       "<table border=\"1\" class=\"dataframe\">\n",
       "  <thead>\n",
       "    <tr style=\"text-align: right;\">\n",
       "      <th></th>\n",
       "      <th>link</th>\n",
       "      <th>title</th>\n",
       "      <th>price (đồng)</th>\n",
       "      <th>type</th>\n",
       "      <th>time</th>\n",
       "      <th>description</th>\n",
       "      <th>address</th>\n",
       "      <th>area (m2)</th>\n",
       "      <th>bedroom_num</th>\n",
       "      <th>house_type</th>\n",
       "      <th>toilet_num</th>\n",
       "      <th>direction</th>\n",
       "      <th>legcal_doc</th>\n",
       "      <th>block_name</th>\n",
       "      <th>total_floor</th>\n",
       "      <th>housing_feature</th>\n",
       "      <th>ward</th>\n",
       "      <th>district</th>\n",
       "      <th>city</th>\n",
       "    </tr>\n",
       "  </thead>\n",
       "  <tbody>\n",
       "    <tr>\n",
       "      <th>0</th>\n",
       "      <td>https://nha.chotot.com//tp-ho-chi-minh/huyen-h...</td>\n",
       "      <td>Cần Tiền Bán Gấp Trong Tháng</td>\n",
       "      <td>1.350000e+09</td>\n",
       "      <td>Môi giới</td>\n",
       "      <td>11/21/2019 9:45</td>\n",
       "      <td>Nhà đẹp cần bán gấp trả nợ, ngang 3,6m dài 12m...</td>\n",
       "      <td>41/3h, Đường Trung Đông 1, Xã Thới Tam Thôn, H...</td>\n",
       "      <td>42</td>\n",
       "      <td>3</td>\n",
       "      <td>Nhà</td>\n",
       "      <td>None</td>\n",
       "      <td>None</td>\n",
       "      <td>None</td>\n",
       "      <td>None</td>\n",
       "      <td>None</td>\n",
       "      <td>None</td>\n",
       "      <td>Xã Thới Tam Thôn</td>\n",
       "      <td>Huyện Hóc Môn</td>\n",
       "      <td>Tp Hồ Chí Minh</td>\n",
       "    </tr>\n",
       "    <tr>\n",
       "      <th>1</th>\n",
       "      <td>https://nha.chotot.com//tp-ho-chi-minh/quan-bi...</td>\n",
       "      <td>Nhà đẹp sổ riêng 1 trệt 1 lầu 4x12m Bùi Tư Toà...</td>\n",
       "      <td>3.600000e+09</td>\n",
       "      <td>Môi giới</td>\n",
       "      <td>11/21/2019 9:45</td>\n",
       "      <td>Nhà đẹp - Sổ riêng - Hình thật\\nĐịa điểm: Bùi ...</td>\n",
       "      <td>35, Đường Bùi Tư Toàn, Phường An Lạc, Quận Bìn...</td>\n",
       "      <td>48</td>\n",
       "      <td>2</td>\n",
       "      <td>Nhà</td>\n",
       "      <td>None</td>\n",
       "      <td>None</td>\n",
       "      <td>Đã có sổ đỏ/sổ hồng</td>\n",
       "      <td>None</td>\n",
       "      <td>None</td>\n",
       "      <td>None</td>\n",
       "      <td>Phường An Lạc</td>\n",
       "      <td>Quận Bình Tân</td>\n",
       "      <td>Tp Hồ Chí Minh</td>\n",
       "    </tr>\n",
       "    <tr>\n",
       "      <th>2</th>\n",
       "      <td>https://nha.chotot.com//tp-ho-chi-minh/quan-ta...</td>\n",
       "      <td>Bán 2 căn nhà hẻm Trịnh Đình Trọng, Q.Tân Phú,</td>\n",
       "      <td>1.700000e+10</td>\n",
       "      <td>Cường</td>\n",
       "      <td>11/21/2019 9:45</td>\n",
       "      <td>Chính chủ cần bán 2 căn nhà 164/2/7 Trịnh Đình...</td>\n",
       "      <td>164//, Đường Trịnh Đình Trọng, Phường Phú Trun...</td>\n",
       "      <td>307</td>\n",
       "      <td>6</td>\n",
       "      <td>Nhà</td>\n",
       "      <td>5</td>\n",
       "      <td>Tây Nam</td>\n",
       "      <td>Đã có sổ đỏ/sổ hồng</td>\n",
       "      <td>None</td>\n",
       "      <td>None</td>\n",
       "      <td>None</td>\n",
       "      <td>Phường Phú Trung</td>\n",
       "      <td>Quận Tân Phú</td>\n",
       "      <td>Tp Hồ Chí Minh</td>\n",
       "    </tr>\n",
       "    <tr>\n",
       "      <th>3</th>\n",
       "      <td>https://nha.chotot.com//tp-ho-chi-minh/quan-12...</td>\n",
       "      <td>Nhà giá đất . Hiệp thành Q12 8,3x26m. Hẻm 4m t...</td>\n",
       "      <td>5.200000e+09</td>\n",
       "      <td>Môi giới</td>\n",
       "      <td>11/21/2019 9:45</td>\n",
       "      <td>Cần bán căn nhà tại phường Hiệp Thành quận 12\\...</td>\n",
       "      <td>Đường Lê Văn Khương, Phường Hiệp Thành, Quận 1...</td>\n",
       "      <td>218</td>\n",
       "      <td>3</td>\n",
       "      <td>Nhà</td>\n",
       "      <td>2</td>\n",
       "      <td>Nam</td>\n",
       "      <td>Đã có sổ đỏ/sổ hồng</td>\n",
       "      <td>None</td>\n",
       "      <td>None</td>\n",
       "      <td>Nở hậu</td>\n",
       "      <td>Phường Hiệp Thành</td>\n",
       "      <td>Quận 12</td>\n",
       "      <td>Tp Hồ Chí Minh</td>\n",
       "    </tr>\n",
       "    <tr>\n",
       "      <th>4</th>\n",
       "      <td>https://nha.chotot.com//tp-ho-chi-minh/quan-bi...</td>\n",
       "      <td>Nhà HXH 280/15 Bùi Hữu Nghĩa sát Bà Chiểu trệt 3l</td>\n",
       "      <td>4.900000e+09</td>\n",
       "      <td>Môi giới</td>\n",
       "      <td>11/21/2019 9:45</td>\n",
       "      <td>Cần bán nhanh căn nhà HXH 280/15 Bùi Hữu Nghĩa...</td>\n",
       "      <td>Đường Bùi Hữu Nghĩa, Phường 2, Quận Bình Thạnh...</td>\n",
       "      <td>36</td>\n",
       "      <td>4</td>\n",
       "      <td>Nhà</td>\n",
       "      <td>None</td>\n",
       "      <td>None</td>\n",
       "      <td>None</td>\n",
       "      <td>None</td>\n",
       "      <td>None</td>\n",
       "      <td>None</td>\n",
       "      <td>Phường 2</td>\n",
       "      <td>Quận Bình Thạnh</td>\n",
       "      <td>Tp Hồ Chí Minh</td>\n",
       "    </tr>\n",
       "  </tbody>\n",
       "</table>\n",
       "</div>"
      ],
      "text/plain": [
       "                                                link  \\\n",
       "0  https://nha.chotot.com//tp-ho-chi-minh/huyen-h...   \n",
       "1  https://nha.chotot.com//tp-ho-chi-minh/quan-bi...   \n",
       "2  https://nha.chotot.com//tp-ho-chi-minh/quan-ta...   \n",
       "3  https://nha.chotot.com//tp-ho-chi-minh/quan-12...   \n",
       "4  https://nha.chotot.com//tp-ho-chi-minh/quan-bi...   \n",
       "\n",
       "                                               title  price (đồng)      type  \\\n",
       "0                       Cần Tiền Bán Gấp Trong Tháng  1.350000e+09  Môi giới   \n",
       "1  Nhà đẹp sổ riêng 1 trệt 1 lầu 4x12m Bùi Tư Toà...  3.600000e+09  Môi giới   \n",
       "2     Bán 2 căn nhà hẻm Trịnh Đình Trọng, Q.Tân Phú,  1.700000e+10     Cường   \n",
       "3  Nhà giá đất . Hiệp thành Q12 8,3x26m. Hẻm 4m t...  5.200000e+09  Môi giới   \n",
       "4  Nhà HXH 280/15 Bùi Hữu Nghĩa sát Bà Chiểu trệt 3l  4.900000e+09  Môi giới   \n",
       "\n",
       "              time                                        description  \\\n",
       "0  11/21/2019 9:45  Nhà đẹp cần bán gấp trả nợ, ngang 3,6m dài 12m...   \n",
       "1  11/21/2019 9:45  Nhà đẹp - Sổ riêng - Hình thật\\nĐịa điểm: Bùi ...   \n",
       "2  11/21/2019 9:45  Chính chủ cần bán 2 căn nhà 164/2/7 Trịnh Đình...   \n",
       "3  11/21/2019 9:45  Cần bán căn nhà tại phường Hiệp Thành quận 12\\...   \n",
       "4  11/21/2019 9:45  Cần bán nhanh căn nhà HXH 280/15 Bùi Hữu Nghĩa...   \n",
       "\n",
       "                                             address  area (m2) bedroom_num  \\\n",
       "0  41/3h, Đường Trung Đông 1, Xã Thới Tam Thôn, H...         42           3   \n",
       "1  35, Đường Bùi Tư Toàn, Phường An Lạc, Quận Bìn...         48           2   \n",
       "2  164//, Đường Trịnh Đình Trọng, Phường Phú Trun...        307           6   \n",
       "3  Đường Lê Văn Khương, Phường Hiệp Thành, Quận 1...        218           3   \n",
       "4  Đường Bùi Hữu Nghĩa, Phường 2, Quận Bình Thạnh...         36           4   \n",
       "\n",
       "  house_type toilet_num direction            legcal_doc block_name  \\\n",
       "0        Nhà       None      None                  None       None   \n",
       "1        Nhà       None      None   Đã có sổ đỏ/sổ hồng       None   \n",
       "2        Nhà          5   Tây Nam   Đã có sổ đỏ/sổ hồng       None   \n",
       "3        Nhà          2       Nam   Đã có sổ đỏ/sổ hồng       None   \n",
       "4        Nhà       None      None                  None       None   \n",
       "\n",
       "  total_floor housing_feature               ward         district  \\\n",
       "0        None            None   Xã Thới Tam Thôn    Huyện Hóc Môn   \n",
       "1        None            None      Phường An Lạc    Quận Bình Tân   \n",
       "2        None            None   Phường Phú Trung     Quận Tân Phú   \n",
       "3        None          Nở hậu  Phường Hiệp Thành          Quận 12   \n",
       "4        None            None           Phường 2  Quận Bình Thạnh   \n",
       "\n",
       "             city  \n",
       "0  Tp Hồ Chí Minh  \n",
       "1  Tp Hồ Chí Minh  \n",
       "2  Tp Hồ Chí Minh  \n",
       "3  Tp Hồ Chí Minh  \n",
       "4  Tp Hồ Chí Minh  "
      ]
     },
     "execution_count": 4,
     "metadata": {},
     "output_type": "execute_result"
    }
   ],
   "source": [
    "data = pd.read_csv('data_full.csv')\n",
    "data.head(5)"
   ]
  },
  {
   "cell_type": "code",
   "execution_count": 7,
   "metadata": {},
   "outputs": [
    {
     "data": {
      "text/plain": [
       "(8493, 19)"
      ]
     },
     "execution_count": 7,
     "metadata": {},
     "output_type": "execute_result"
    }
   ],
   "source": [
    "data.columns\n",
    "data.shape\n",
    "#data1 = data[['direction', 'type', 'area (m2)', 'legcal_doc', 'quan', 'phuong', 'duong', 'price (đồng)']]"
   ]
  },
  {
   "cell_type": "code",
   "execution_count": 4,
   "metadata": {},
   "outputs": [
    {
     "data": {
      "text/html": [
       "<div>\n",
       "<style scoped>\n",
       "    .dataframe tbody tr th:only-of-type {\n",
       "        vertical-align: middle;\n",
       "    }\n",
       "\n",
       "    .dataframe tbody tr th {\n",
       "        vertical-align: top;\n",
       "    }\n",
       "\n",
       "    .dataframe thead th {\n",
       "        text-align: right;\n",
       "    }\n",
       "</style>\n",
       "<table border=\"1\" class=\"dataframe\">\n",
       "  <thead>\n",
       "    <tr style=\"text-align: right;\">\n",
       "      <th></th>\n",
       "      <th>direction</th>\n",
       "      <th>type</th>\n",
       "      <th>area (m2)</th>\n",
       "      <th>legcal_doc</th>\n",
       "      <th>quan</th>\n",
       "      <th>phuong</th>\n",
       "      <th>duong</th>\n",
       "      <th>price (đồng)</th>\n",
       "    </tr>\n",
       "  </thead>\n",
       "  <tbody>\n",
       "    <tr>\n",
       "      <th>5575</th>\n",
       "      <td>Đông Bắc</td>\n",
       "      <td>Môi giới</td>\n",
       "      <td>80</td>\n",
       "      <td>Đã có sổ đỏ/sổ hồng</td>\n",
       "      <td>Quận Tân Phú</td>\n",
       "      <td>Phường Hiệp Tân</td>\n",
       "      <td>Đường Trần Quang Quá</td>\n",
       "      <td>8.100000e+09</td>\n",
       "    </tr>\n",
       "    <tr>\n",
       "      <th>1652</th>\n",
       "      <td>Đông Nam</td>\n",
       "      <td>Môi giới</td>\n",
       "      <td>450</td>\n",
       "      <td>Đã có sổ đỏ/sổ hồng</td>\n",
       "      <td>Quận 12</td>\n",
       "      <td>Phường Thạnh Xuân</td>\n",
       "      <td>Đường Tô Ngọc Vân</td>\n",
       "      <td>5.200000e+09</td>\n",
       "    </tr>\n",
       "    <tr>\n",
       "      <th>2544</th>\n",
       "      <td>None</td>\n",
       "      <td>Cao Thị Phương Mai</td>\n",
       "      <td>36</td>\n",
       "      <td>Đã có sổ đỏ/sổ hồng</td>\n",
       "      <td>Quận Gò Vấp</td>\n",
       "      <td>Phường 9</td>\n",
       "      <td>Đường Phạm Văn Chiêu</td>\n",
       "      <td>2.900000e+09</td>\n",
       "    </tr>\n",
       "    <tr>\n",
       "      <th>5809</th>\n",
       "      <td>None</td>\n",
       "      <td>Môi giới</td>\n",
       "      <td>40</td>\n",
       "      <td>Đã có sổ đỏ/sổ hồng</td>\n",
       "      <td>Huyện Hóc Môn</td>\n",
       "      <td>Xã Xuân Thới Thượng</td>\n",
       "      <td>Đường Dương Công Khi</td>\n",
       "      <td>4.300000e+08</td>\n",
       "    </tr>\n",
       "    <tr>\n",
       "      <th>5939</th>\n",
       "      <td>None</td>\n",
       "      <td>Môi giới</td>\n",
       "      <td>64</td>\n",
       "      <td>Đã có sổ đỏ/sổ hồng</td>\n",
       "      <td>Quận 8</td>\n",
       "      <td>Phường 6</td>\n",
       "      <td>Đường Số 9</td>\n",
       "      <td>5.800000e+09</td>\n",
       "    </tr>\n",
       "  </tbody>\n",
       "</table>\n",
       "</div>"
      ],
      "text/plain": [
       "      direction                type  area (m2)            legcal_doc  \\\n",
       "5575   Đông Bắc            Môi giới         80   Đã có sổ đỏ/sổ hồng   \n",
       "1652   Đông Nam            Môi giới        450   Đã có sổ đỏ/sổ hồng   \n",
       "2544       None  Cao Thị Phương Mai         36   Đã có sổ đỏ/sổ hồng   \n",
       "5809       None            Môi giới         40   Đã có sổ đỏ/sổ hồng   \n",
       "5939       None            Môi giới         64   Đã có sổ đỏ/sổ hồng   \n",
       "\n",
       "               quan               phuong                 duong  price (đồng)  \n",
       "5575   Quận Tân Phú      Phường Hiệp Tân  Đường Trần Quang Quá  8.100000e+09  \n",
       "1652        Quận 12    Phường Thạnh Xuân     Đường Tô Ngọc Vân  5.200000e+09  \n",
       "2544    Quận Gò Vấp             Phường 9  Đường Phạm Văn Chiêu  2.900000e+09  \n",
       "5809  Huyện Hóc Môn  Xã Xuân Thới Thượng  Đường Dương Công Khi  4.300000e+08  \n",
       "5939         Quận 8             Phường 6            Đường Số 9  5.800000e+09  "
      ]
     },
     "execution_count": 4,
     "metadata": {},
     "output_type": "execute_result"
    }
   ],
   "source": [
    "data1.sample(5)"
   ]
  },
  {
   "cell_type": "code",
   "execution_count": 5,
   "metadata": {},
   "outputs": [],
   "source": [
    "data1 = data1.apply(LabelEncoder().fit_transform)"
   ]
  },
  {
   "cell_type": "code",
   "execution_count": 11,
   "metadata": {},
   "outputs": [
    {
     "name": "stdout",
     "output_type": "stream",
     "text": [
      "(5216, 8)\n"
     ]
    },
    {
     "data": {
      "text/plain": [
       "(2236, 8)"
      ]
     },
     "execution_count": 11,
     "metadata": {},
     "output_type": "execute_result"
    }
   ],
   "source": [
    "train, val = train_test_split(data1, test_size = 0.3)\n",
    "print(train.shape)\n",
    "val.shape"
   ]
  },
  {
   "cell_type": "code",
   "execution_count": 12,
   "metadata": {},
   "outputs": [
    {
     "data": {
      "text/plain": [
       "0.2978461862577749"
      ]
     },
     "execution_count": 12,
     "metadata": {},
     "output_type": "execute_result"
    }
   ],
   "source": [
    "train_col = ['direction', 'type', 'area (m2)', 'legcal_doc', 'quan', 'phuong', 'duong']\n",
    "model = DecisionTreeRegressor()\n",
    "model.fit(train[train_col], train['price (đồng)'])\n",
    "model.score(val[train_col], val['price (đồng)'])"
   ]
  },
  {
   "cell_type": "code",
   "execution_count": 14,
   "metadata": {},
   "outputs": [
    {
     "data": {
      "text/plain": [
       "0.3321070414327765"
      ]
     },
     "execution_count": 14,
     "metadata": {},
     "output_type": "execute_result"
    }
   ],
   "source": [
    "model = LinearRegression()\n",
    "model.fit(train[train_col], train['price (đồng)'])\n",
    "model.score(val[train_col], val['price (đồng)'])"
   ]
  }
 ],
 "metadata": {
  "kernelspec": {
   "display_name": "Python 3",
   "language": "python",
   "name": "python3"
  },
  "language_info": {
   "codemirror_mode": {
    "name": "ipython",
    "version": 3
   },
   "file_extension": ".py",
   "mimetype": "text/x-python",
   "name": "python",
   "nbconvert_exporter": "python",
   "pygments_lexer": "ipython3",
   "version": "3.7.1"
  }
 },
 "nbformat": 4,
 "nbformat_minor": 4
}
