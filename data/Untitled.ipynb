{
 "cells": [
  {
   "cell_type": "code",
   "execution_count": 1,
   "metadata": {},
   "outputs": [],
   "source": [
    "import pandas as pd\n",
    "import numpy as np\n",
    "import missingno as msn\n",
    "import seaborn as sns\n",
    "\n",
    "from sklearn.preprocessing import OneHotEncoder, StandardScaler\n",
    "from sklearn.base import BaseEstimator, TransformerMixin\n",
    "from sklearn.pipeline import Pipeline\n",
    "from sklearn.compose import ColumnTransformer\n",
    "from sklearn.neural_network import MLPClassifier\n",
    "from sklearn.tree import DecisionTreeClassifier\n",
    "from sklearn.neighbors import KNeighborsClassifier\n",
    "from sklearn.linear_model import LogisticRegression"
   ]
  },
  {
   "cell_type": "code",
   "execution_count": 2,
   "metadata": {},
   "outputs": [
    {
     "data": {
      "text/html": [
       "<div>\n",
       "<style scoped>\n",
       "    .dataframe tbody tr th:only-of-type {\n",
       "        vertical-align: middle;\n",
       "    }\n",
       "\n",
       "    .dataframe tbody tr th {\n",
       "        vertical-align: top;\n",
       "    }\n",
       "\n",
       "    .dataframe thead th {\n",
       "        text-align: right;\n",
       "    }\n",
       "</style>\n",
       "<table border=\"1\" class=\"dataframe\">\n",
       "  <thead>\n",
       "    <tr style=\"text-align: right;\">\n",
       "      <th></th>\n",
       "      <th>price</th>\n",
       "      <th>type</th>\n",
       "      <th>time</th>\n",
       "      <th>link</th>\n",
       "      <th>address</th>\n",
       "      <th>title</th>\n",
       "      <th>area</th>\n",
       "      <th>bedroom_num</th>\n",
       "      <th>house_type</th>\n",
       "      <th>toilet_num</th>\n",
       "      <th>direction</th>\n",
       "      <th>legcal_doc</th>\n",
       "      <th>block_name</th>\n",
       "      <th>total_floor</th>\n",
       "      <th>housing_feature</th>\n",
       "      <th>city</th>\n",
       "      <th>district</th>\n",
       "      <th>ward</th>\n",
       "      <th>street</th>\n",
       "      <th>description</th>\n",
       "    </tr>\n",
       "  </thead>\n",
       "  <tbody>\n",
       "    <tr>\n",
       "      <th>11759</th>\n",
       "      <td>2.200000e+09</td>\n",
       "      <td>Môi giới</td>\n",
       "      <td>11/15/2019 11:13</td>\n",
       "      <td>https://nha.chotot.com//tp-ho-chi-minh/quan-12...</td>\n",
       "      <td>đường song hành 1, Phường Tân Hưng Thuận, Quận...</td>\n",
       "      <td>dãy nhà full nội thất giá 2,2 tỷ,tiện kinh doanh</td>\n",
       "      <td>126.0</td>\n",
       "      <td>4.0</td>\n",
       "      <td>Nhà</td>\n",
       "      <td>NaN</td>\n",
       "      <td>NaN</td>\n",
       "      <td>NaN</td>\n",
       "      <td>NaN</td>\n",
       "      <td>NaN</td>\n",
       "      <td>NaN</td>\n",
       "      <td>Tp Hồ Chí Minh</td>\n",
       "      <td>Quận 12</td>\n",
       "      <td>Phường Tân Hưng Thuận</td>\n",
       "      <td>đường song hành 1</td>\n",
       "      <td>xuất cảnh nên cần bán nhanh trong tháng 2 căn ...</td>\n",
       "    </tr>\n",
       "    <tr>\n",
       "      <th>6000</th>\n",
       "      <td>2.800000e+09</td>\n",
       "      <td>Môi giới</td>\n",
       "      <td>11/15/2019 10:14</td>\n",
       "      <td>https://nha.chotot.com//tp-ho-chi-minh/quan-2/...</td>\n",
       "      <td>Đường 22 Nguyễn Duy Trinh, Phường Bình Trưng T...</td>\n",
       "      <td>Nhà Quận 2 70m² p.Bình Trưng Tây 3PN gần NDT</td>\n",
       "      <td>70.0</td>\n",
       "      <td>3.0</td>\n",
       "      <td>Nhà</td>\n",
       "      <td>1.0</td>\n",
       "      <td>Bắc</td>\n",
       "      <td>Đã có sổ đỏ/sổ hồng</td>\n",
       "      <td>NaN</td>\n",
       "      <td>1</td>\n",
       "      <td>NaN</td>\n",
       "      <td>Tp Hồ Chí Minh</td>\n",
       "      <td>Quận 2</td>\n",
       "      <td>Phường Bình Trưng Tây</td>\n",
       "      <td>Đường 22 Nguyễn Duy Trinh</td>\n",
       "      <td>Bán căn nhà rộng có gác đường 22 , p.Bình Trưn...</td>\n",
       "    </tr>\n",
       "    <tr>\n",
       "      <th>9806</th>\n",
       "      <td>7.400000e+09</td>\n",
       "      <td>Môi giới</td>\n",
       "      <td>11/15/2019 11:08</td>\n",
       "      <td>https://nha.chotot.com//tp-ho-chi-minh/quan-bi...</td>\n",
       "      <td>Đường Bùi Đình Túy, Phường 24, Quận Bình Thạnh...</td>\n",
       "      <td>Nhà 4 tầng 5PN, 5WC HXH 167 Bùi Đình Tuý, f24. BT</td>\n",
       "      <td>54.0</td>\n",
       "      <td>5.0</td>\n",
       "      <td>Nhà</td>\n",
       "      <td>5.0</td>\n",
       "      <td>NaN</td>\n",
       "      <td>Đã có sổ đỏ/sổ hồng</td>\n",
       "      <td>NaN</td>\n",
       "      <td>4</td>\n",
       "      <td>Hẻm xe hơi</td>\n",
       "      <td>Tp Hồ Chí Minh</td>\n",
       "      <td>Quận Bình Thạnh</td>\n",
       "      <td>Phường 24</td>\n",
       "      <td>Đường Bùi Đình Túy</td>\n",
       "      <td>* Bán nhà 4 tầng đường Xe hơi Đối diện UBND ph...</td>\n",
       "    </tr>\n",
       "  </tbody>\n",
       "</table>\n",
       "</div>"
      ],
      "text/plain": [
       "              price      type              time  \\\n",
       "11759  2.200000e+09  Môi giới  11/15/2019 11:13   \n",
       "6000   2.800000e+09  Môi giới  11/15/2019 10:14   \n",
       "9806   7.400000e+09  Môi giới  11/15/2019 11:08   \n",
       "\n",
       "                                                    link  \\\n",
       "11759  https://nha.chotot.com//tp-ho-chi-minh/quan-12...   \n",
       "6000   https://nha.chotot.com//tp-ho-chi-minh/quan-2/...   \n",
       "9806   https://nha.chotot.com//tp-ho-chi-minh/quan-bi...   \n",
       "\n",
       "                                                 address  \\\n",
       "11759  đường song hành 1, Phường Tân Hưng Thuận, Quận...   \n",
       "6000   Đường 22 Nguyễn Duy Trinh, Phường Bình Trưng T...   \n",
       "9806   Đường Bùi Đình Túy, Phường 24, Quận Bình Thạnh...   \n",
       "\n",
       "                                                   title   area  bedroom_num  \\\n",
       "11759   dãy nhà full nội thất giá 2,2 tỷ,tiện kinh doanh  126.0          4.0   \n",
       "6000        Nhà Quận 2 70m² p.Bình Trưng Tây 3PN gần NDT   70.0          3.0   \n",
       "9806   Nhà 4 tầng 5PN, 5WC HXH 167 Bùi Đình Tuý, f24. BT   54.0          5.0   \n",
       "\n",
       "      house_type  toilet_num direction           legcal_doc block_name  \\\n",
       "11759        Nhà         NaN       NaN                  NaN        NaN   \n",
       "6000         Nhà         1.0       Bắc  Đã có sổ đỏ/sổ hồng        NaN   \n",
       "9806         Nhà         5.0       NaN  Đã có sổ đỏ/sổ hồng        NaN   \n",
       "\n",
       "      total_floor housing_feature            city         district  \\\n",
       "11759         NaN             NaN  Tp Hồ Chí Minh          Quận 12   \n",
       "6000            1             NaN  Tp Hồ Chí Minh           Quận 2   \n",
       "9806            4      Hẻm xe hơi  Tp Hồ Chí Minh  Quận Bình Thạnh   \n",
       "\n",
       "                        ward                     street  \\\n",
       "11759  Phường Tân Hưng Thuận          đường song hành 1   \n",
       "6000   Phường Bình Trưng Tây  Đường 22 Nguyễn Duy Trinh   \n",
       "9806               Phường 24         Đường Bùi Đình Túy   \n",
       "\n",
       "                                             description  \n",
       "11759  xuất cảnh nên cần bán nhanh trong tháng 2 căn ...  \n",
       "6000   Bán căn nhà rộng có gác đường 22 , p.Bình Trưn...  \n",
       "9806   * Bán nhà 4 tầng đường Xe hơi Đối diện UBND ph...  "
      ]
     },
     "execution_count": 2,
     "metadata": {},
     "output_type": "execute_result"
    }
   ],
   "source": [
    "train = pd.read_csv('train.csv')\n",
    "train.sample(3)"
   ]
  },
  {
   "cell_type": "code",
   "execution_count": 3,
   "metadata": {},
   "outputs": [
    {
     "data": {
      "text/plain": [
       "count    1.266600e+04\n",
       "mean     3.328370e+09\n",
       "std      2.366717e+09\n",
       "min      1.050000e+08\n",
       "25%      1.200000e+09\n",
       "50%      2.800000e+09\n",
       "75%      4.900000e+09\n",
       "max      1.000000e+10\n",
       "Name: price, dtype: float64"
      ]
     },
     "execution_count": 3,
     "metadata": {},
     "output_type": "execute_result"
    },
    {
     "data": {
      "image/png": "[encoded data removed]",
      "text/plain": [
       "<Figure size 432x288 with 1 Axes>"
      ]
     },
     "metadata": {
      "needs_background": "light"
     },
     "output_type": "display_data"
    }
   ],
   "source": [
    "sns.boxplot(train[(train.price > 1e8) & (train.price < 1e10)].price)\n",
    "train[(train.price >= 1e8) & (train.price <= 1e10)].price.describe()"
   ]
  },
  {
   "cell_type": "code",
   "execution_count": 4,
   "metadata": {},
   "outputs": [],
   "source": [
    "train_pre1 = train[(train.price >= 1e8) & (train.price <= 1e10)].copy()\n",
    "train_pre1['type'] = train_pre1['type'].apply(lambda x: x if x == 'Môi giới' else 'Khác')\n",
    "train_pre1.drop(columns=['time','link','address',\n",
    "                     'title','city','description',\n",
    "                     'block_name','total_floor','direction'], inplace=True)\n",
    "\n",
    "class CateCol(BaseEstimator, TransformerMixin):\n",
    "    def __init__(self, col_name='price', _type=4):\n",
    "        self.col_name = col_name\n",
    "        self._type = _type\n",
    "    def fit(self, X_df, y=None):\n",
    "        details = X_df[self.col_name].describe()\n",
    "        self._25 = details['25%']\n",
    "        self._50 = details['50%']\n",
    "        self._75 = details['75%']\n",
    "        return self\n",
    "    \n",
    "    def to_cate(self, x):\n",
    "        if self._type == 2:\n",
    "            if x < self._50:\n",
    "                return 0\n",
    "            return 1\n",
    "        \n",
    "        if x < self._25:\n",
    "            return 0\n",
    "        if x < self._50:\n",
    "            return 1\n",
    "        if x < self._75:\n",
    "            return 2\n",
    "        return 3\n",
    "    \n",
    "    def transform(self, X_df, y=None):\n",
    "        res_df = X_df.copy()\n",
    "        res_df[self.col_name] = res_df[self.col_name].apply(lambda x: self.to_cate(x))  \n",
    "        return res_df\n",
    "#         res_df['type'] = res_df['type'].apply(lambda x: x if x == 'Môi giới' else 'Khác')\n",
    "#         res_df.drop(columns=['price','time','link','address',\n",
    "#                              'title','city','description',\n",
    "#                              'block_name','total_floor','direction'], inplace=True)"
   ]
  },
  {
   "cell_type": "code",
   "execution_count": 5,
   "metadata": {},
   "outputs": [],
   "source": [
    "# cate = CatePriceDrop()\n",
    "# train_transform = cate.fit_transform(train)\n",
    "# train_transform.sample(5)"
   ]
  },
  {
   "cell_type": "code",
   "execution_count": 6,
   "metadata": {},
   "outputs": [
    {
     "data": {
      "text/plain": [
       "<matplotlib.axes._subplots.AxesSubplot at 0x7f72999f2290>"
      ]
     },
     "execution_count": 6,
     "metadata": {},
     "output_type": "execute_result"
    },
    {
     "data": {
      "image/png": "[encoded data removed]",
      "text/plain": [
       "<Figure size 1728x720 with 3 Axes>"
      ]
     },
     "metadata": {
      "needs_background": "light"
     },
     "output_type": "display_data"
    }
   ],
   "source": [
    "msn.bar(train_pre1)"
   ]
  },
  {
   "cell_type": "code",
   "execution_count": 7,
   "metadata": {},
   "outputs": [
    {
     "data": {
      "text/plain": [
       "count    10393.000000\n",
       "mean         2.721832\n",
       "std          1.445535\n",
       "min          1.000000\n",
       "25%          2.000000\n",
       "50%          2.000000\n",
       "75%          3.000000\n",
       "max          7.000000\n",
       "Name: toilet_num, dtype: float64"
      ]
     },
     "execution_count": 7,
     "metadata": {},
     "output_type": "execute_result"
    }
   ],
   "source": [
    "train_pre1.toilet_num.describe()"
   ]
  },
  {
   "cell_type": "code",
   "execution_count": 8,
   "metadata": {},
   "outputs": [
    {
     "data": {
      "text/plain": [
       "count                   10708\n",
       "unique                      3\n",
       "top       Đã có sổ đỏ/sổ hồng\n",
       "freq                    10187\n",
       "Name: legcal_doc, dtype: object"
      ]
     },
     "execution_count": 8,
     "metadata": {},
     "output_type": "execute_result"
    }
   ],
   "source": [
    "train_pre1.legcal_doc.describe()"
   ]
  },
  {
   "cell_type": "code",
   "execution_count": 9,
   "metadata": {},
   "outputs": [
    {
     "data": {
      "text/plain": [
       "array(['Đã có sổ đỏ/sổ hồng', nan, 'Giấy tay', 'Đang chờ bàn giao sổ'],\n",
       "      dtype=object)"
      ]
     },
     "execution_count": 9,
     "metadata": {},
     "output_type": "execute_result"
    }
   ],
   "source": [
    "train_pre1.legcal_doc.unique()"
   ]
  },
  {
   "cell_type": "code",
   "execution_count": 10,
   "metadata": {},
   "outputs": [
    {
     "data": {
      "text/plain": [
       "count           7281\n",
       "unique             3\n",
       "top       Hẻm xe hơi\n",
       "freq            3357\n",
       "Name: housing_feature, dtype: object"
      ]
     },
     "execution_count": 10,
     "metadata": {},
     "output_type": "execute_result"
    }
   ],
   "source": [
    "train_pre1.housing_feature.describe()"
   ]
  },
  {
   "cell_type": "code",
   "execution_count": 11,
   "metadata": {},
   "outputs": [
    {
     "data": {
      "text/plain": [
       "array(['Hẻm xe hơi', nan, 'Nở hậu', 'Mặt tiền'], dtype=object)"
      ]
     },
     "execution_count": 11,
     "metadata": {},
     "output_type": "execute_result"
    }
   ],
   "source": [
    "train_pre1.housing_feature.unique()"
   ]
  },
  {
   "cell_type": "markdown",
   "metadata": {},
   "source": [
    "- Fill `toilet_num` nan with `0.0`\n",
    "- Fill `legcal_doc` nan with `Không có`\n",
    "- Fill `housing_feature` nan with `Khác`\n",
    "- Fill `bedroom_num` nan with `0.0`\n",
    "- Fill `house_type` nan with `Khác`\n",
    "- Fill `district`, `ward` and `street` nan with most_frequence"
   ]
  },
  {
   "cell_type": "code",
   "execution_count": 12,
   "metadata": {},
   "outputs": [],
   "source": [
    "class FillNA(BaseEstimator, TransformerMixin):\n",
    "    def fit(self, X_df, y=None):\n",
    "        mode_street = X_df.street.describe()['top']\n",
    "        mode_district = X_df.district.describe()['top']\n",
    "        mode_ward = X_df.ward.describe()['top']\n",
    "        self.mode_cols = {'street': mode_street, \n",
    "                          'district': mode_district, \n",
    "                          'ward': mode_ward}\n",
    "        return self\n",
    "    \n",
    "    def transform(self, X_df, y=None):\n",
    "        res_df = X_df.copy()\n",
    "        other_cols = ['housing_feature', 'house_type']\n",
    "        _0_cols = ['bedroom_num', 'toilet_num']\n",
    "        for i in self.mode_cols:\n",
    "            j = self.mode_cols[i]\n",
    "            res_df[i].fillna(j, inplace=True)\n",
    "        for i in other_cols:\n",
    "            res_df[i].fillna('Khác',inplace=True)\n",
    "        for i in _0_cols:\n",
    "            res_df[i].fillna(0.0,inplace=True)\n",
    "        res_df['legcal_doc'].fillna('Không có', inplace=True)\n",
    "        return res_df"
   ]
  },
  {
   "cell_type": "code",
   "execution_count": 13,
   "metadata": {},
   "outputs": [],
   "source": [
    "fillna = FillNA()\n",
    "train_pre = fillna.fit_transform(train_pre1)"
   ]
  },
  {
   "cell_type": "code",
   "execution_count": 14,
   "metadata": {},
   "outputs": [
    {
     "data": {
      "text/plain": [
       "<matplotlib.axes._subplots.AxesSubplot at 0x7f72998e6550>"
      ]
     },
     "execution_count": 14,
     "metadata": {},
     "output_type": "execute_result"
    },
    {
     "data": {
      "image/png": "[encoded data removed]",
      "text/plain": [
       "<Figure size 1728x720 with 3 Axes>"
      ]
     },
     "metadata": {
      "needs_background": "light"
     },
     "output_type": "display_data"
    }
   ],
   "source": [
    "msn.bar(train_pre)"
   ]
  },
  {
   "cell_type": "code",
   "execution_count": 15,
   "metadata": {},
   "outputs": [],
   "source": [
    "cate_cols = ['type', 'house_type', 'legcal_doc', 'housing_feature', 'district', 'ward', 'street']\n",
    "\n",
    "scaler = StandardScaler()\n",
    "\n",
    "pp = Pipeline(steps=[('FillNA', FillNA()), \n",
    "                     ('to_cate_price', CateCol(col_name='price', _type=2)),\n",
    "                     ('to_cate_area', CateCol(col_name='area')),\n",
    "                     ('to_cate_bedroom_num', CateCol(col_name='bedroom_num')),\n",
    "                     ('to_cate_toilet_num', CateCol(col_name='toilet_num'))])\n",
    "train_preprocess = pp.fit_transform(train_pre1)\n",
    "trainY = train_preprocess['price'].values\n",
    "trainX = train_preprocess.drop(columns=['price'])\n",
    "onehot = OneHotEncoder(handle_unknown='ignore')\n",
    "trainX = onehot.fit_transform(trainX).toarray()\n",
    "trainX_Scale = scaler.fit_transform(trainX)"
   ]
  },
  {
   "cell_type": "code",
   "execution_count": 16,
   "metadata": {},
   "outputs": [],
   "source": [
    "test = pd.read_csv('test.csv')\n",
    "\n",
    "test['type'] = test['type'].apply(lambda x: x if x == 'Môi giới' else 'Khác')\n",
    "test.drop(columns=['time','link','address',\n",
    "                     'title','city','description',\n",
    "                     'block_name','total_floor','direction'], inplace=True)\n",
    "\n",
    "\n",
    "test_preprocess = pp.transform(test)\n",
    "testY = test_preprocess['price'].values\n",
    "testX = test_preprocess.drop(columns=['price'])\n",
    "testX = onehot.transform(testX).toarray()\n",
    "testX_Scale = scaler.transform(testX)\n",
    "# msn.bar(testX)"
   ]
  },
  {
   "cell_type": "code",
   "execution_count": 17,
   "metadata": {},
   "outputs": [
    {
     "name": "stdout",
     "output_type": "stream",
     "text": [
      "CPU times: user 9 µs, sys: 3 µs, total: 12 µs\n",
      "Wall time: 6.44 µs\n",
      "Train score: 0.8810200536870362\n",
      "Test score: 0.7252747252747253\n",
      "CPU times: user 2 µs, sys: 1e+03 ns, total: 3 µs\n",
      "Wall time: 5.96 µs\n",
      "Train score: 0.9723669666824569\n",
      "Test score: 0.7272471118624965\n"
     ]
    },
    {
     "name": "stderr",
     "output_type": "stream",
     "text": [
      "/usr/local/lib/python3.7/dist-packages/sklearn/linear_model/logistic.py:432: FutureWarning: Default solver will be changed to 'lbfgs' in 0.22. Specify a solver to silence this warning.\n",
      "  FutureWarning)\n"
     ]
    },
    {
     "name": "stdout",
     "output_type": "stream",
     "text": [
      "CPU times: user 3 µs, sys: 0 ns, total: 3 µs\n",
      "Wall time: 6.2 µs\n",
      "Train score: 0.7952786988788884\n",
      "Test score: 0.7357001972386588\n",
      "CPU times: user 2 µs, sys: 1e+03 ns, total: 3 µs\n",
      "Wall time: 5.72 µs\n",
      "Train score: 0.7922785409758408\n",
      "Test score: 0.6920259227951535\n"
     ]
    }
   ],
   "source": [
    "clfs = [MLPClassifier(hidden_layer_sizes=5,max_iter=5000), DecisionTreeClassifier(), LogisticRegression(), KNeighborsClassifier()]\n",
    "\n",
    "for clf in clfs:\n",
    "    clf.fit(trainX_Scale, trainY)\n",
    "    %time\n",
    "    print('Train score:', clf.score(trainX_Scale, trainY))\n",
    "    print('Test score:', clf.score(testX_Scale, testY))"
   ]
  }
 ],
 "metadata": {
  "kernelspec": {
   "display_name": "Python 3",
   "language": "python",
   "name": "python3"
  },
  "language_info": {
   "codemirror_mode": {
    "name": "ipython",
    "version": 3
   },
   "file_extension": ".py",
   "mimetype": "text/x-python",
   "name": "python",
   "nbconvert_exporter": "python",
   "pygments_lexer": "ipython3",
   "version": "3.7.5"
  }
 },
 "nbformat": 4,
 "nbformat_minor": 4
}
