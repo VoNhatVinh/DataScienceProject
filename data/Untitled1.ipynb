{
 "cells": [
  {
   "cell_type": "code",
   "execution_count": 2,
   "metadata": {},
   "outputs": [],
   "source": [
    "import pandas as pd\n",
    "from sklearn.preprocessing import LabelEncoder, OneHotEncoder\n",
    "from sklearn.linear_model import LinearRegression\n",
    "from sklearn.model_selection import train_test_split\n",
    "from sklearn.tree import DecisionTreeRegressor"
   ]
  },
  {
   "cell_type": "code",
   "execution_count": 3,
   "metadata": {},
   "outputs": [
    {
     "name": "stdout",
     "output_type": "stream",
     "text": [
      "(5961, 20)\n",
      "<class 'pandas.core.frame.DataFrame'>\n",
      "RangeIndex: 5961 entries, 0 to 5960\n",
      "Data columns (total 20 columns):\n",
      "link               5961 non-null object\n",
      "title              5961 non-null object\n",
      "price (đồng)       5961 non-null float64\n",
      "type               5961 non-null object\n",
      "time               5961 non-null object\n",
      "description        5961 non-null object\n",
      "address            5961 non-null object\n",
      "area (m2)          5961 non-null int64\n",
      "bedroom_num        5961 non-null object\n",
      "house_type         5961 non-null object\n",
      "toilet_num         5961 non-null object\n",
      "direction          5961 non-null object\n",
      "legcal_doc         5961 non-null object\n",
      "block_name         5961 non-null object\n",
      "total_floor        5961 non-null object\n",
      "housing_feature    5961 non-null object\n",
      "city               5961 non-null object\n",
      "district           5961 non-null object\n",
      "ward               5961 non-null object\n",
      "street             5961 non-null object\n",
      "dtypes: float64(1), int64(1), object(18)\n",
      "memory usage: 931.5+ KB\n"
     ]
    }
   ],
   "source": [
    "data = pd.read_csv('train.csv')\n",
    "print(data.shape)\n",
    "\n",
    "\n",
    "data.describe()\n",
    "data.info()"
   ]
  },
  {
   "cell_type": "code",
   "execution_count": 68,
   "metadata": {},
   "outputs": [],
   "source": [
    "\n",
    "data1 = data[['direction', 'type', 'area (m2)', 'legcal_doc', 'district', 'ward', 'street', 'total_floor', 'bedroom_num','price (đồng)']]"
   ]
  },
  {
   "cell_type": "code",
   "execution_count": 69,
   "metadata": {},
   "outputs": [
    {
     "data": {
      "text/html": [
       "<div>\n",
       "<style scoped>\n",
       "    .dataframe tbody tr th:only-of-type {\n",
       "        vertical-align: middle;\n",
       "    }\n",
       "\n",
       "    .dataframe tbody tr th {\n",
       "        vertical-align: top;\n",
       "    }\n",
       "\n",
       "    .dataframe thead th {\n",
       "        text-align: right;\n",
       "    }\n",
       "</style>\n",
       "<table border=\"1\" class=\"dataframe\">\n",
       "  <thead>\n",
       "    <tr style=\"text-align: right;\">\n",
       "      <th></th>\n",
       "      <th>direction</th>\n",
       "      <th>type</th>\n",
       "      <th>area (m2)</th>\n",
       "      <th>legcal_doc</th>\n",
       "      <th>district</th>\n",
       "      <th>ward</th>\n",
       "      <th>street</th>\n",
       "      <th>total_floor</th>\n",
       "      <th>bedroom_num</th>\n",
       "      <th>price (đồng)</th>\n",
       "    </tr>\n",
       "  </thead>\n",
       "  <tbody>\n",
       "    <tr>\n",
       "      <th>895</th>\n",
       "      <td>Tây</td>\n",
       "      <td>Môi giới</td>\n",
       "      <td>33</td>\n",
       "      <td>Đã có sổ đỏ/sổ hồng</td>\n",
       "      <td>Quận Bình Thạnh</td>\n",
       "      <td>Phường 24</td>\n",
       "      <td>Đường Nguyễn Thiện Thuật</td>\n",
       "      <td>None</td>\n",
       "      <td>2</td>\n",
       "      <td>3.600000e+09</td>\n",
       "    </tr>\n",
       "    <tr>\n",
       "      <th>1619</th>\n",
       "      <td>Đông Nam</td>\n",
       "      <td>Môi giới</td>\n",
       "      <td>30</td>\n",
       "      <td>Đã có sổ đỏ/sổ hồng</td>\n",
       "      <td>Quận Bình Thạnh</td>\n",
       "      <td>Phường 5</td>\n",
       "      <td>Đường Lê Quang Định</td>\n",
       "      <td>None</td>\n",
       "      <td>2</td>\n",
       "      <td>3.650000e+09</td>\n",
       "    </tr>\n",
       "    <tr>\n",
       "      <th>3627</th>\n",
       "      <td>None</td>\n",
       "      <td>Môi giới</td>\n",
       "      <td>150</td>\n",
       "      <td>Đã có sổ đỏ/sổ hồng</td>\n",
       "      <td>Huyện Hóc Môn</td>\n",
       "      <td>Xã Xuân Thới Sơn</td>\n",
       "      <td>Đường Nguyễn Thị Thử</td>\n",
       "      <td>1</td>\n",
       "      <td>4</td>\n",
       "      <td>6.200000e+09</td>\n",
       "    </tr>\n",
       "    <tr>\n",
       "      <th>2555</th>\n",
       "      <td>None</td>\n",
       "      <td>Phạm Sang</td>\n",
       "      <td>154</td>\n",
       "      <td>Đã có sổ đỏ/sổ hồng</td>\n",
       "      <td>Quận 2</td>\n",
       "      <td>Phường Bình An</td>\n",
       "      <td>Đường Trần Não</td>\n",
       "      <td>2</td>\n",
       "      <td>4</td>\n",
       "      <td>5.100000e+09</td>\n",
       "    </tr>\n",
       "    <tr>\n",
       "      <th>4367</th>\n",
       "      <td>None</td>\n",
       "      <td>Môi giới</td>\n",
       "      <td>55</td>\n",
       "      <td>Đã có sổ đỏ/sổ hồng</td>\n",
       "      <td>Quận Bình Tân</td>\n",
       "      <td>Phường Bình Hưng Hòa</td>\n",
       "      <td>Đường Số 9</td>\n",
       "      <td>2</td>\n",
       "      <td>2</td>\n",
       "      <td>3.000000e+09</td>\n",
       "    </tr>\n",
       "  </tbody>\n",
       "</table>\n",
       "</div>"
      ],
      "text/plain": [
       "      direction       type  area (m2)            legcal_doc         district  \\\n",
       "895         Tây   Môi giới         33   Đã có sổ đỏ/sổ hồng  Quận Bình Thạnh   \n",
       "1619   Đông Nam   Môi giới         30   Đã có sổ đỏ/sổ hồng  Quận Bình Thạnh   \n",
       "3627       None   Môi giới        150   Đã có sổ đỏ/sổ hồng    Huyện Hóc Môn   \n",
       "2555       None  Phạm Sang        154   Đã có sổ đỏ/sổ hồng           Quận 2   \n",
       "4367       None   Môi giới         55   Đã có sổ đỏ/sổ hồng    Quận Bình Tân   \n",
       "\n",
       "                      ward                    street total_floor bedroom_num  \\\n",
       "895              Phường 24  Đường Nguyễn Thiện Thuật        None           2   \n",
       "1619              Phường 5       Đường Lê Quang Định        None           2   \n",
       "3627      Xã Xuân Thới Sơn      Đường Nguyễn Thị Thử           1           4   \n",
       "2555        Phường Bình An            Đường Trần Não           2           4   \n",
       "4367  Phường Bình Hưng Hòa                Đường Số 9           2           2   \n",
       "\n",
       "      price (đồng)  \n",
       "895   3.600000e+09  \n",
       "1619  3.650000e+09  \n",
       "3627  6.200000e+09  \n",
       "2555  5.100000e+09  \n",
       "4367  3.000000e+09  "
      ]
     },
     "execution_count": 69,
     "metadata": {},
     "output_type": "execute_result"
    }
   ],
   "source": [
    "data1.sample(5)"
   ]
  },
  {
   "cell_type": "code",
   "execution_count": 70,
   "metadata": {},
   "outputs": [
    {
     "data": {
      "text/html": [
       "<div>\n",
       "<style scoped>\n",
       "    .dataframe tbody tr th:only-of-type {\n",
       "        vertical-align: middle;\n",
       "    }\n",
       "\n",
       "    .dataframe tbody tr th {\n",
       "        vertical-align: top;\n",
       "    }\n",
       "\n",
       "    .dataframe thead th {\n",
       "        text-align: right;\n",
       "    }\n",
       "</style>\n",
       "<table border=\"1\" class=\"dataframe\">\n",
       "  <thead>\n",
       "    <tr style=\"text-align: right;\">\n",
       "      <th></th>\n",
       "      <th>direction</th>\n",
       "      <th>type</th>\n",
       "      <th>area (m2)</th>\n",
       "      <th>legcal_doc</th>\n",
       "      <th>district</th>\n",
       "      <th>ward</th>\n",
       "      <th>street</th>\n",
       "      <th>total_floor</th>\n",
       "      <th>bedroom_num</th>\n",
       "      <th>price (đồng)</th>\n",
       "    </tr>\n",
       "  </thead>\n",
       "  <tbody>\n",
       "    <tr>\n",
       "      <th>0</th>\n",
       "      <td>2</td>\n",
       "      <td>512</td>\n",
       "      <td>25</td>\n",
       "      <td>3</td>\n",
       "      <td>10</td>\n",
       "      <td>19</td>\n",
       "      <td>651</td>\n",
       "      <td>2</td>\n",
       "      <td>4</td>\n",
       "      <td>366</td>\n",
       "    </tr>\n",
       "    <tr>\n",
       "      <th>1</th>\n",
       "      <td>8</td>\n",
       "      <td>512</td>\n",
       "      <td>45</td>\n",
       "      <td>3</td>\n",
       "      <td>22</td>\n",
       "      <td>2</td>\n",
       "      <td>146</td>\n",
       "      <td>4</td>\n",
       "      <td>6</td>\n",
       "      <td>392</td>\n",
       "    </tr>\n",
       "    <tr>\n",
       "      <th>2</th>\n",
       "      <td>2</td>\n",
       "      <td>512</td>\n",
       "      <td>95</td>\n",
       "      <td>3</td>\n",
       "      <td>23</td>\n",
       "      <td>107</td>\n",
       "      <td>245</td>\n",
       "      <td>2</td>\n",
       "      <td>6</td>\n",
       "      <td>582</td>\n",
       "    </tr>\n",
       "    <tr>\n",
       "      <th>3</th>\n",
       "      <td>2</td>\n",
       "      <td>617</td>\n",
       "      <td>95</td>\n",
       "      <td>3</td>\n",
       "      <td>22</td>\n",
       "      <td>4</td>\n",
       "      <td>309</td>\n",
       "      <td>1</td>\n",
       "      <td>5</td>\n",
       "      <td>295</td>\n",
       "    </tr>\n",
       "    <tr>\n",
       "      <th>4</th>\n",
       "      <td>2</td>\n",
       "      <td>512</td>\n",
       "      <td>154</td>\n",
       "      <td>1</td>\n",
       "      <td>8</td>\n",
       "      <td>111</td>\n",
       "      <td>638</td>\n",
       "      <td>0</td>\n",
       "      <td>11</td>\n",
       "      <td>524</td>\n",
       "    </tr>\n",
       "  </tbody>\n",
       "</table>\n",
       "</div>"
      ],
      "text/plain": [
       "   direction  type  area (m2)  legcal_doc  district  ward  street  \\\n",
       "0          2   512         25           3        10    19     651   \n",
       "1          8   512         45           3        22     2     146   \n",
       "2          2   512         95           3        23   107     245   \n",
       "3          2   617         95           3        22     4     309   \n",
       "4          2   512        154           1         8   111     638   \n",
       "\n",
       "   total_floor  bedroom_num  price (đồng)  \n",
       "0            2            4           366  \n",
       "1            4            6           392  \n",
       "2            2            6           582  \n",
       "3            1            5           295  \n",
       "4            0           11           524  "
      ]
     },
     "execution_count": 70,
     "metadata": {},
     "output_type": "execute_result"
    }
   ],
   "source": [
    "data1 = data1.apply(LabelEncoder().fit_transform)\n",
    "data1.head()"
   ]
  },
  {
   "cell_type": "code",
   "execution_count": 71,
   "metadata": {},
   "outputs": [
    {
     "name": "stdout",
     "output_type": "stream",
     "text": [
      "(4172, 10)\n"
     ]
    },
    {
     "data": {
      "text/plain": [
       "(1789, 10)"
      ]
     },
     "execution_count": 71,
     "metadata": {},
     "output_type": "execute_result"
    }
   ],
   "source": [
    "train, val = train_test_split(data1, test_size = 0.3)\n",
    "print(train.shape)\n",
    "val.shape"
   ]
  },
  {
   "cell_type": "code",
   "execution_count": 72,
   "metadata": {},
   "outputs": [
    {
     "data": {
      "text/plain": [
       "0.2980657682169535"
      ]
     },
     "execution_count": 72,
     "metadata": {},
     "output_type": "execute_result"
    }
   ],
   "source": [
    "train_col = ['direction', 'type', 'area (m2)', 'legcal_doc', 'district', 'ward', 'street']\n",
    "model.fit(train[train_col], train['price (đồng)'])\n",
    "model.score(val[train_col], val['price (đồng)'])"
   ]
  },
  {
   "cell_type": "code",
   "execution_count": 73,
   "metadata": {},
   "outputs": [
    {
     "data": {
      "text/plain": [
       "0.2980657682169535"
      ]
     },
     "execution_count": 73,
     "metadata": {},
     "output_type": "execute_result"
    }
   ],
   "source": [
    "model = LinearRegression()\n",
    "model.fit(train[train_col], train['price (đồng)'])\n",
    "model.score(val[train_col], val['price (đồng)'])"
   ]
  },
  {
   "cell_type": "code",
   "execution_count": 74,
   "metadata": {},
   "outputs": [],
   "source": [
    "import numpy as np # linear algebra\n",
    "import pandas as pd # data processing, CSV file I/O (e.g. pd.read_csv)\n",
    "from sklearn.model_selection import StratifiedShuffleSplit, cross_val_score, GridSearchCV\n",
    "from sklearn.base import BaseEstimator, TransformerMixin\n",
    "from sklearn.preprocessing import Imputer, OneHotEncoder, StandardScaler\n",
    "from sklearn.pipeline import Pipeline, FeatureUnion\n",
    "from sklearn.tree import DecisionTreeRegressor\n",
    "from sklearn.ensemble import RandomForestRegressor\n",
    "from sklearn.svm import LinearSVR, SVR\n",
    "from sklearn.linear_model import LinearRegression\n",
    "from sklearn.metrics import mean_squared_error\n",
    "from sklearn.externals import joblib\n",
    "from random import randint\n",
    "import matplotlib.pyplot as plt\n",
    "import matplotlib as mpl\n",
    "import seaborn as sns\n",
    "import itertools"
   ]
  },
  {
   "cell_type": "code",
   "execution_count": 75,
   "metadata": {},
   "outputs": [
    {
     "data": {
      "image/png": "[encoded data removed]",
      "text/plain": [
       "<Figure size 432x216 with 2 Axes>"
      ]
     },
     "metadata": {
      "needs_background": "light"
     },
     "output_type": "display_data"
    }
   ],
   "source": [
    "data.hist(bins=3, figsize=(6,3))\n",
    "plt.show()"
   ]
  },
  {
   "cell_type": "code",
   "execution_count": 76,
   "metadata": {},
   "outputs": [
    {
     "data": {
      "text/plain": [
       "Index(['link', 'title', 'price (đồng)', 'type', 'time', 'description',\n",
       "       'address', 'area (m2)', 'bedroom_num', 'house_type', 'toilet_num',\n",
       "       'direction', 'legcal_doc', 'block_name', 'total_floor',\n",
       "       'housing_feature', 'city', 'district', 'ward', 'street'],\n",
       "      dtype='object')"
      ]
     },
     "execution_count": 76,
     "metadata": {},
     "output_type": "execute_result"
    }
   ],
   "source": [
    "data.columns"
   ]
  },
  {
   "cell_type": "code",
   "execution_count": 90,
   "metadata": {},
   "outputs": [
    {
     "data": {
      "text/html": [
       "<div>\n",
       "<style scoped>\n",
       "    .dataframe tbody tr th:only-of-type {\n",
       "        vertical-align: middle;\n",
       "    }\n",
       "\n",
       "    .dataframe tbody tr th {\n",
       "        vertical-align: top;\n",
       "    }\n",
       "\n",
       "    .dataframe thead th {\n",
       "        text-align: right;\n",
       "    }\n",
       "</style>\n",
       "<table border=\"1\" class=\"dataframe\">\n",
       "  <thead>\n",
       "    <tr style=\"text-align: right;\">\n",
       "      <th></th>\n",
       "      <th>link</th>\n",
       "      <th>title</th>\n",
       "      <th>price (đồng)</th>\n",
       "      <th>type</th>\n",
       "      <th>time</th>\n",
       "      <th>description</th>\n",
       "      <th>address</th>\n",
       "      <th>area (m2)</th>\n",
       "      <th>bedroom_num</th>\n",
       "      <th>house_type</th>\n",
       "      <th>toilet_num</th>\n",
       "      <th>direction</th>\n",
       "      <th>legcal_doc</th>\n",
       "      <th>block_name</th>\n",
       "      <th>total_floor</th>\n",
       "      <th>housing_feature</th>\n",
       "      <th>city</th>\n",
       "      <th>district</th>\n",
       "      <th>ward</th>\n",
       "      <th>street</th>\n",
       "    </tr>\n",
       "  </thead>\n",
       "  <tbody>\n",
       "    <tr>\n",
       "      <th>0</th>\n",
       "      <td>https://nha.chotot.com//tp-ho-chi-minh/quan-3/...</td>\n",
       "      <td>Bán Gấp Nhà Hẻm 4m Nguyễn Đình Chiểu</td>\n",
       "      <td>3.150000e+09</td>\n",
       "      <td>Môi giới</td>\n",
       "      <td>11/15/2019 7:52</td>\n",
       "      <td>Lo công việc bán nhà hẻm 4m Nguyễn Đình Chiểu,...</td>\n",
       "      <td>Đường Nguyễn Đình Chiểu, Phường 4, Quận 3, Tp ...</td>\n",
       "      <td>30</td>\n",
       "      <td>2</td>\n",
       "      <td>Nhà</td>\n",
       "      <td>2</td>\n",
       "      <td>None</td>\n",
       "      <td>Đã có sổ đỏ/sổ hồng</td>\n",
       "      <td>None</td>\n",
       "      <td>2</td>\n",
       "      <td>Hẻm xe hơi</td>\n",
       "      <td>Tp Hồ Chí Minh</td>\n",
       "      <td>Quận 3</td>\n",
       "      <td>Phường 4</td>\n",
       "      <td>Đường Nguyễn Đình Chiểu</td>\n",
       "    </tr>\n",
       "    <tr>\n",
       "      <th>1</th>\n",
       "      <td>https://nha.chotot.com//tp-ho-chi-minh/quan-ta...</td>\n",
       "      <td>Tân bình khu bàu cát,kinh doanh sầm uất ,2 lầu</td>\n",
       "      <td>3.550000e+09</td>\n",
       "      <td>Môi giới</td>\n",
       "      <td>11/15/2019 10:20</td>\n",
       "      <td>QUẬN TÂN BÌNH,H6M,2 LẦU GIÁ CHỈ CÓ 3,65 TỶ\\nHẻ...</td>\n",
       "      <td>Đường Bàu Cát 1||7379, Phường 11, Quận Tân Bìn...</td>\n",
       "      <td>50</td>\n",
       "      <td>4</td>\n",
       "      <td>Nhà</td>\n",
       "      <td>3</td>\n",
       "      <td>Đông Nam</td>\n",
       "      <td>Đã có sổ đỏ/sổ hồng</td>\n",
       "      <td>None</td>\n",
       "      <td>3</td>\n",
       "      <td>Hẻm xe hơi</td>\n",
       "      <td>Tp Hồ Chí Minh</td>\n",
       "      <td>Quận Tân Bình</td>\n",
       "      <td>Phường 11</td>\n",
       "      <td>Đường Bàu Cát 1||7379</td>\n",
       "    </tr>\n",
       "    <tr>\n",
       "      <th>2</th>\n",
       "      <td>https://nha.chotot.com//tp-ho-chi-minh/quan-ta...</td>\n",
       "      <td>Bán nhà MTKD D11,Tây Thạnh, Tân Phú</td>\n",
       "      <td>8.200000e+09</td>\n",
       "      <td>Môi giới</td>\n",
       "      <td>11/21/2019 15:29</td>\n",
       "      <td>Quận Tân Phú: 8,2 tỷ\\nBán nhà MTKD D11, Tây Th...</td>\n",
       "      <td>Đường D11, Phường Tây Thạnh, Quận Tân Phú, Tp ...</td>\n",
       "      <td>100</td>\n",
       "      <td>4</td>\n",
       "      <td>Nhà</td>\n",
       "      <td>None</td>\n",
       "      <td>None</td>\n",
       "      <td>Đã có sổ đỏ/sổ hồng</td>\n",
       "      <td>None</td>\n",
       "      <td>2</td>\n",
       "      <td>Mặt tiền</td>\n",
       "      <td>Tp Hồ Chí Minh</td>\n",
       "      <td>Quận Tân Phú</td>\n",
       "      <td>Phường Tây Thạnh</td>\n",
       "      <td>Đường D11</td>\n",
       "    </tr>\n",
       "  </tbody>\n",
       "</table>\n",
       "</div>"
      ],
      "text/plain": [
       "                                                link  \\\n",
       "0  https://nha.chotot.com//tp-ho-chi-minh/quan-3/...   \n",
       "1  https://nha.chotot.com//tp-ho-chi-minh/quan-ta...   \n",
       "2  https://nha.chotot.com//tp-ho-chi-minh/quan-ta...   \n",
       "\n",
       "                                            title  price (đồng)      type  \\\n",
       "0            Bán Gấp Nhà Hẻm 4m Nguyễn Đình Chiểu  3.150000e+09  Môi giới   \n",
       "1  Tân bình khu bàu cát,kinh doanh sầm uất ,2 lầu  3.550000e+09  Môi giới   \n",
       "2             Bán nhà MTKD D11,Tây Thạnh, Tân Phú  8.200000e+09  Môi giới   \n",
       "\n",
       "               time                                        description  \\\n",
       "0   11/15/2019 7:52  Lo công việc bán nhà hẻm 4m Nguyễn Đình Chiểu,...   \n",
       "1  11/15/2019 10:20  QUẬN TÂN BÌNH,H6M,2 LẦU GIÁ CHỈ CÓ 3,65 TỶ\\nHẻ...   \n",
       "2  11/21/2019 15:29  Quận Tân Phú: 8,2 tỷ\\nBán nhà MTKD D11, Tây Th...   \n",
       "\n",
       "                                             address  area (m2) bedroom_num  \\\n",
       "0  Đường Nguyễn Đình Chiểu, Phường 4, Quận 3, Tp ...         30           2   \n",
       "1  Đường Bàu Cát 1||7379, Phường 11, Quận Tân Bìn...         50           4   \n",
       "2  Đường D11, Phường Tây Thạnh, Quận Tân Phú, Tp ...        100           4   \n",
       "\n",
       "  house_type toilet_num  direction            legcal_doc block_name  \\\n",
       "0        Nhà          2       None   Đã có sổ đỏ/sổ hồng       None   \n",
       "1        Nhà          3   Đông Nam   Đã có sổ đỏ/sổ hồng       None   \n",
       "2        Nhà       None       None   Đã có sổ đỏ/sổ hồng       None   \n",
       "\n",
       "  total_floor housing_feature            city       district  \\\n",
       "0           2      Hẻm xe hơi  Tp Hồ Chí Minh         Quận 3   \n",
       "1           3      Hẻm xe hơi  Tp Hồ Chí Minh  Quận Tân Bình   \n",
       "2           2        Mặt tiền  Tp Hồ Chí Minh   Quận Tân Phú   \n",
       "\n",
       "               ward                   street  \n",
       "0          Phường 4  Đường Nguyễn Đình Chiểu  \n",
       "1         Phường 11    Đường Bàu Cát 1||7379  \n",
       "2  Phường Tây Thạnh                Đường D11  "
      ]
     },
     "execution_count": 90,
     "metadata": {},
     "output_type": "execute_result"
    }
   ],
   "source": [
    "data.head(3)"
   ]
  },
  {
   "cell_type": "code",
   "execution_count": 96,
   "metadata": {},
   "outputs": [
    {
     "data": {
      "image/png": "[encoded data removed]",
      "text/plain": [
       "<Figure size 576x576 with 2 Axes>"
      ]
     },
     "metadata": {
      "needs_background": "light"
     },
     "output_type": "display_data"
    }
   ],
   "source": [
    "f,ax = plt.subplots(figsize=(8,8))\n",
    "sns.heatmap(data1.corr(), annot = True, linewidth = .5, fmt = \".3f\",ax = ax)\n",
    "plt.show()"
   ]
  }
 ],
 "metadata": {
  "kernelspec": {
   "display_name": "Python 3",
   "language": "python",
   "name": "python3"
  },
  "language_info": {
   "codemirror_mode": {
    "name": "ipython",
    "version": 3
   },
   "file_extension": ".py",
   "mimetype": "text/x-python",
   "name": "python",
   "nbconvert_exporter": "python",
   "pygments_lexer": "ipython3",
   "version": "3.7.1"
  }
 },
 "nbformat": 4,
 "nbformat_minor": 4
}
