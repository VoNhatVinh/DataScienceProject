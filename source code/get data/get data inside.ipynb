{
 "cells": [
  {
   "cell_type": "code",
   "execution_count": 65,
   "metadata": {},
   "outputs": [],
   "source": [
    "import numpy as np\n",
    "import pandas as pd\n",
    "from selenium import webdriver\n",
    "from requests_html import HTML\n",
    "# -*- coding: UTF-8 -*-\n",
    "from bs4 import BeautifulSoup\n",
    "import re\n",
    "import time"
   ]
  },
  {
   "cell_type": "code",
   "execution_count": 18,
   "metadata": {},
   "outputs": [
    {
     "name": "stdout",
     "output_type": "stream",
     "text": [
      "Data Shape:  (25000, 4)\n"
     ]
    },
    {
     "data": {
      "text/html": [
       "<div>\n",
       "<style scoped>\n",
       "    .dataframe tbody tr th:only-of-type {\n",
       "        vertical-align: middle;\n",
       "    }\n",
       "\n",
       "    .dataframe tbody tr th {\n",
       "        vertical-align: top;\n",
       "    }\n",
       "\n",
       "    .dataframe thead th {\n",
       "        text-align: right;\n",
       "    }\n",
       "</style>\n",
       "<table border=\"1\" class=\"dataframe\">\n",
       "  <thead>\n",
       "    <tr style=\"text-align: right;\">\n",
       "      <th></th>\n",
       "      <th>price</th>\n",
       "      <th>type</th>\n",
       "      <th>time</th>\n",
       "      <th>link</th>\n",
       "    </tr>\n",
       "  </thead>\n",
       "  <tbody>\n",
       "    <tr>\n",
       "      <th>0</th>\n",
       "      <td>18.000.000.000 đ</td>\n",
       "      <td>Môi giới</td>\n",
       "      <td>2019-12-04 14:48:18.407093</td>\n",
       "      <td>https://nha.chotot.com//tp-ho-chi-minh/quan-ta...</td>\n",
       "    </tr>\n",
       "    <tr>\n",
       "      <th>1</th>\n",
       "      <td>1.750.000.000 đ</td>\n",
       "      <td>Môi giới</td>\n",
       "      <td>2019-12-04 14:48:18.408963</td>\n",
       "      <td>https://nha.chotot.com//tp-ho-chi-minh/huyen-b...</td>\n",
       "    </tr>\n",
       "    <tr>\n",
       "      <th>2</th>\n",
       "      <td>1.250.000.000 đ</td>\n",
       "      <td>Đại Phong</td>\n",
       "      <td>2019-12-04 14:48:18.411019</td>\n",
       "      <td>https://nha.chotot.com//tp-ho-chi-minh/huyen-b...</td>\n",
       "    </tr>\n",
       "    <tr>\n",
       "      <th>3</th>\n",
       "      <td>2.000.000.000 đ</td>\n",
       "      <td>Môi giới</td>\n",
       "      <td>2019-12-04 14:48:18.412744</td>\n",
       "      <td>https://nha.chotot.com//tp-ho-chi-minh/quan-th...</td>\n",
       "    </tr>\n",
       "    <tr>\n",
       "      <th>4</th>\n",
       "      <td>7.400.000.000 đ</td>\n",
       "      <td>Nhã Phương</td>\n",
       "      <td>2019-12-04 14:48:18.414617</td>\n",
       "      <td>https://nha.chotot.com//tp-ho-chi-minh/quan-7/...</td>\n",
       "    </tr>\n",
       "  </tbody>\n",
       "</table>\n",
       "</div>"
      ],
      "text/plain": [
       "              price        type                        time  \\\n",
       "0  18.000.000.000 đ    Môi giới  2019-12-04 14:48:18.407093   \n",
       "1   1.750.000.000 đ    Môi giới  2019-12-04 14:48:18.408963   \n",
       "2   1.250.000.000 đ   Đại Phong  2019-12-04 14:48:18.411019   \n",
       "3   2.000.000.000 đ    Môi giới  2019-12-04 14:48:18.412744   \n",
       "4   7.400.000.000 đ  Nhã Phương  2019-12-04 14:48:18.414617   \n",
       "\n",
       "                                                link  \n",
       "0  https://nha.chotot.com//tp-ho-chi-minh/quan-ta...  \n",
       "1  https://nha.chotot.com//tp-ho-chi-minh/huyen-b...  \n",
       "2  https://nha.chotot.com//tp-ho-chi-minh/huyen-b...  \n",
       "3  https://nha.chotot.com//tp-ho-chi-minh/quan-th...  \n",
       "4  https://nha.chotot.com//tp-ho-chi-minh/quan-7/...  "
      ]
     },
     "execution_count": 18,
     "metadata": {},
     "output_type": "execute_result"
    }
   ],
   "source": [
    "data = pd.read_csv('0-25k.csv')\n",
    "print('Data Shape: ', data.shape)\n",
    "data.head(5)"
   ]
  },
  {
   "cell_type": "markdown",
   "metadata": {},
   "source": [
    "### After test for javascript, we saw that site use javascript to render page, so we decide to use selenium.webdriver to crawl information from attribute link."
   ]
  },
  {
   "cell_type": "markdown",
   "metadata": {},
   "source": [
    "1. Số phòng ngủ\n",
    "2. Diện tích\n",
    "3. Loại hình nhà ở\n",
    "4. Tiêu đề\n",
    "5. Mô tả chi tiết\n",
    "6. Số phòng vệ sinh\n",
    "7. Hướng cửa chính\n",
    "8. Giấy tờ pháp lý\n",
    "9. Tên phân khu/lô/block/tháp\n",
    "10. Số hiệu\n",
    "11. Tổng số tầng\n",
    "12. Đặc điểm nhà đất\n",
    "13. Địa chỉ\n",
    "\n",
    "Có những cái như `Tiêu đề, Mô tả chi tiết, Địa chỉ` ta có thể lấy riêng được, nên tạo một dict chứa những thuộc tính còn lại"
   ]
  },
  {
   "cell_type": "code",
   "execution_count": 19,
   "metadata": {},
   "outputs": [],
   "source": [
    "def init_dict():\n",
    "    return {}"
   ]
  },
  {
   "cell_type": "code",
   "execution_count": 20,
   "metadata": {},
   "outputs": [],
   "source": [
    "def get_description(r):\n",
    "    p_list = r.find('p')\n",
    "    descrip = [i for i in p_list if 'itemprop' in i.attrs and i.attrs['itemprop'] == 'description'][0]\n",
    "    descrip = BeautifulSoup(descrip.html, 'html.parser')\n",
    "    strgs = []\n",
    "    for string in descrip.strings:\n",
    "        strg = re.sub('\\\\xa0','', string)\n",
    "        strg = re.sub('^ +','', strg)\n",
    "        strg = re.sub(' +$', '', strg)\n",
    "        strgs.append(strg)\n",
    "    return '\\n'.join(strgs)\n",
    "# Test\n",
    "# get_description(r)"
   ]
  },
  {
   "cell_type": "code",
   "execution_count": 52,
   "metadata": {},
   "outputs": [
    {
     "data": {
      "text/plain": [
       "15823    https://nha.chotot.com//tp-ho-chi-minh/quan-bi...\n",
       "15824    https://nha.chotot.com//tp-ho-chi-minh/quan-8/...\n",
       "15825    https://nha.chotot.com//tp-ho-chi-minh/quan-go...\n",
       "15826    https://nha.chotot.com//tp-ho-chi-minh/quan-10...\n",
       "15827    https://nha.chotot.com//tp-ho-chi-minh/quan-go...\n",
       "                               ...                        \n",
       "19995    https://nha.chotot.com//tp-ho-chi-minh/quan-ph...\n",
       "19996    https://nha.chotot.com//tp-ho-chi-minh/quan-bi...\n",
       "19997    https://nha.chotot.com//tp-ho-chi-minh/huyen-h...\n",
       "19998    https://nha.chotot.com//tp-ho-chi-minh/quan-9/...\n",
       "19999    https://nha.chotot.com//tp-ho-chi-minh/quan-12...\n",
       "Name: link, Length: 4177, dtype: object"
      ]
     },
     "execution_count": 52,
     "metadata": {},
     "output_type": "execute_result"
    }
   ],
   "source": [
    "link = data.link[15823:20000]\n",
    "link"
   ]
  },
  {
   "cell_type": "code",
   "execution_count": 66,
   "metadata": {},
   "outputs": [
    {
     "name": "stdout",
     "output_type": "stream",
     "text": [
      "['Diá»\\x87n tÃ\\xadch', '85200 mÂ²']\n",
      "['Sá»\\x91 phÃ²ng ngá»§', '5 phÃ²ng']\n",
      "['Loáº¡i hÃ¬nh nhÃ\\xa0 á»\\x9f', 'NhÃ']\n",
      "['Giáº¥y tá»\\x9d phÃ¡p lÃ½', 'Ä\\x90Ã£ cÃ³ sá»\\x95 Ä\\x91á»\\x8f/sá»\\x95 há»\\x93ng']\n"
     ]
    },
    {
     "ename": "InvalidArgumentException",
     "evalue": "Message: unexpected end of hex escape at line 1 column 44373\n",
     "output_type": "error",
     "traceback": [
      "\u001b[0;31m---------------------------------------------------------------------------\u001b[0m",
      "\u001b[0;31mInvalidArgumentException\u001b[0m                  Traceback (most recent call last)",
      "\u001b[0;32m<ipython-input-66-6e362b58e90c>\u001b[0m in \u001b[0;36m<module>\u001b[0;34m\u001b[0m\n\u001b[1;32m     19\u001b[0m \u001b[0;34m\u001b[0m\u001b[0m\n\u001b[1;32m     20\u001b[0m     \u001b[0mtime\u001b[0m\u001b[0;34m.\u001b[0m\u001b[0msleep\u001b[0m\u001b[0;34m(\u001b[0m\u001b[0;36m1\u001b[0m\u001b[0;34m)\u001b[0m\u001b[0;34m\u001b[0m\u001b[0;34m\u001b[0m\u001b[0m\n\u001b[0;32m---> 21\u001b[0;31m     \u001b[0mr\u001b[0m \u001b[0;34m=\u001b[0m \u001b[0mHTML\u001b[0m\u001b[0;34m(\u001b[0m\u001b[0mhtml\u001b[0m \u001b[0;34m=\u001b[0m \u001b[0mff\u001b[0m\u001b[0;34m.\u001b[0m\u001b[0mpage_source\u001b[0m\u001b[0;34m.\u001b[0m\u001b[0mencode\u001b[0m\u001b[0;34m(\u001b[0m\u001b[0;34m'utf-8'\u001b[0m\u001b[0;34m)\u001b[0m\u001b[0;34m)\u001b[0m\u001b[0;34m\u001b[0m\u001b[0;34m\u001b[0m\u001b[0m\n\u001b[0m\u001b[1;32m     22\u001b[0m \u001b[0;34m\u001b[0m\u001b[0m\n\u001b[1;32m     23\u001b[0m     \u001b[0mtmp\u001b[0m \u001b[0;34m=\u001b[0m \u001b[0mr\u001b[0m\u001b[0;34m.\u001b[0m\u001b[0mfind\u001b[0m\u001b[0;34m(\u001b[0m\u001b[0;34m'h1'\u001b[0m\u001b[0;34m,\u001b[0m \u001b[0mfirst\u001b[0m\u001b[0;34m=\u001b[0m\u001b[0;32mTrue\u001b[0m\u001b[0;34m)\u001b[0m\u001b[0;34m\u001b[0m\u001b[0;34m\u001b[0m\u001b[0m\n",
      "\u001b[0;32m/usr/local/lib/python3.7/dist-packages/selenium/webdriver/remote/webdriver.py\u001b[0m in \u001b[0;36mpage_source\u001b[0;34m(self)\u001b[0m\n\u001b[1;32m    677\u001b[0m             \u001b[0mdriver\u001b[0m\u001b[0;34m.\u001b[0m\u001b[0mpage_source\u001b[0m\u001b[0;34m\u001b[0m\u001b[0;34m\u001b[0m\u001b[0m\n\u001b[1;32m    678\u001b[0m         \"\"\"\n\u001b[0;32m--> 679\u001b[0;31m         \u001b[0;32mreturn\u001b[0m \u001b[0mself\u001b[0m\u001b[0;34m.\u001b[0m\u001b[0mexecute\u001b[0m\u001b[0;34m(\u001b[0m\u001b[0mCommand\u001b[0m\u001b[0;34m.\u001b[0m\u001b[0mGET_PAGE_SOURCE\u001b[0m\u001b[0;34m)\u001b[0m\u001b[0;34m[\u001b[0m\u001b[0;34m'value'\u001b[0m\u001b[0;34m]\u001b[0m\u001b[0;34m\u001b[0m\u001b[0;34m\u001b[0m\u001b[0m\n\u001b[0m\u001b[1;32m    680\u001b[0m \u001b[0;34m\u001b[0m\u001b[0m\n\u001b[1;32m    681\u001b[0m     \u001b[0;32mdef\u001b[0m \u001b[0mclose\u001b[0m\u001b[0;34m(\u001b[0m\u001b[0mself\u001b[0m\u001b[0;34m)\u001b[0m\u001b[0;34m:\u001b[0m\u001b[0;34m\u001b[0m\u001b[0;34m\u001b[0m\u001b[0m\n",
      "\u001b[0;32m/usr/local/lib/python3.7/dist-packages/selenium/webdriver/remote/webdriver.py\u001b[0m in \u001b[0;36mexecute\u001b[0;34m(self, driver_command, params)\u001b[0m\n\u001b[1;32m    319\u001b[0m         \u001b[0mresponse\u001b[0m \u001b[0;34m=\u001b[0m \u001b[0mself\u001b[0m\u001b[0;34m.\u001b[0m\u001b[0mcommand_executor\u001b[0m\u001b[0;34m.\u001b[0m\u001b[0mexecute\u001b[0m\u001b[0;34m(\u001b[0m\u001b[0mdriver_command\u001b[0m\u001b[0;34m,\u001b[0m \u001b[0mparams\u001b[0m\u001b[0;34m)\u001b[0m\u001b[0;34m\u001b[0m\u001b[0;34m\u001b[0m\u001b[0m\n\u001b[1;32m    320\u001b[0m         \u001b[0;32mif\u001b[0m \u001b[0mresponse\u001b[0m\u001b[0;34m:\u001b[0m\u001b[0;34m\u001b[0m\u001b[0;34m\u001b[0m\u001b[0m\n\u001b[0;32m--> 321\u001b[0;31m             \u001b[0mself\u001b[0m\u001b[0;34m.\u001b[0m\u001b[0merror_handler\u001b[0m\u001b[0;34m.\u001b[0m\u001b[0mcheck_response\u001b[0m\u001b[0;34m(\u001b[0m\u001b[0mresponse\u001b[0m\u001b[0;34m)\u001b[0m\u001b[0;34m\u001b[0m\u001b[0;34m\u001b[0m\u001b[0m\n\u001b[0m\u001b[1;32m    322\u001b[0m             response['value'] = self._unwrap_value(\n\u001b[1;32m    323\u001b[0m                 response.get('value', None))\n",
      "\u001b[0;32m/usr/local/lib/python3.7/dist-packages/selenium/webdriver/remote/errorhandler.py\u001b[0m in \u001b[0;36mcheck_response\u001b[0;34m(self, response)\u001b[0m\n\u001b[1;32m    240\u001b[0m                 \u001b[0malert_text\u001b[0m \u001b[0;34m=\u001b[0m \u001b[0mvalue\u001b[0m\u001b[0;34m[\u001b[0m\u001b[0;34m'alert'\u001b[0m\u001b[0;34m]\u001b[0m\u001b[0;34m.\u001b[0m\u001b[0mget\u001b[0m\u001b[0;34m(\u001b[0m\u001b[0;34m'text'\u001b[0m\u001b[0;34m)\u001b[0m\u001b[0;34m\u001b[0m\u001b[0;34m\u001b[0m\u001b[0m\n\u001b[1;32m    241\u001b[0m             \u001b[0;32mraise\u001b[0m \u001b[0mexception_class\u001b[0m\u001b[0;34m(\u001b[0m\u001b[0mmessage\u001b[0m\u001b[0;34m,\u001b[0m \u001b[0mscreen\u001b[0m\u001b[0;34m,\u001b[0m \u001b[0mstacktrace\u001b[0m\u001b[0;34m,\u001b[0m \u001b[0malert_text\u001b[0m\u001b[0;34m)\u001b[0m\u001b[0;34m\u001b[0m\u001b[0;34m\u001b[0m\u001b[0m\n\u001b[0;32m--> 242\u001b[0;31m         \u001b[0;32mraise\u001b[0m \u001b[0mexception_class\u001b[0m\u001b[0;34m(\u001b[0m\u001b[0mmessage\u001b[0m\u001b[0;34m,\u001b[0m \u001b[0mscreen\u001b[0m\u001b[0;34m,\u001b[0m \u001b[0mstacktrace\u001b[0m\u001b[0;34m)\u001b[0m\u001b[0;34m\u001b[0m\u001b[0;34m\u001b[0m\u001b[0m\n\u001b[0m\u001b[1;32m    243\u001b[0m \u001b[0;34m\u001b[0m\u001b[0m\n\u001b[1;32m    244\u001b[0m     \u001b[0;32mdef\u001b[0m \u001b[0m_value_or_default\u001b[0m\u001b[0;34m(\u001b[0m\u001b[0mself\u001b[0m\u001b[0;34m,\u001b[0m \u001b[0mobj\u001b[0m\u001b[0;34m,\u001b[0m \u001b[0mkey\u001b[0m\u001b[0;34m,\u001b[0m \u001b[0mdefault\u001b[0m\u001b[0;34m)\u001b[0m\u001b[0;34m:\u001b[0m\u001b[0;34m\u001b[0m\u001b[0;34m\u001b[0m\u001b[0m\n",
      "\u001b[0;31mInvalidArgumentException\u001b[0m: Message: unexpected end of hex escape at line 1 column 44373\n"
     ]
    }
   ],
   "source": [
    "link_list = []\n",
    "tieu_de_list = []\n",
    "mtct_list = []\n",
    "diachi_list = []\n",
    "dict_list = []\n",
    "cnt = 0\n",
    "ff = webdriver.Firefox()\n",
    "\n",
    "\n",
    "for i in range(len(link)):\n",
    "    \n",
    "    links = link.values[i]\n",
    "    dicts = init_dict()\n",
    "    ff.get(links)\n",
    "    try:\n",
    "        ff.find_element_by_css_selector('.ctTooltipClose').click()\n",
    "    except:\n",
    "        i = 1\n",
    "        \n",
    "    time.sleep(1)\n",
    "    r = HTML(html = ff.page_source.encode('utf-8'))\n",
    "\n",
    "    tmp = r.find('h1', first=True)\n",
    "    if tmp == None:\n",
    "        continue\n",
    "    tit = tmp.text\n",
    "    desp = get_description(r)\n",
    "    tmp = r.find('.media-body.media-middle')[0]\n",
    "    addr = tmp.text\n",
    "    \n",
    "    l = r.find('._1DTCXk4eb6dusdylsQxCos', first=True)\n",
    "    for i in l.find('span'):\n",
    "        tmpd = i.text.split(': ')\n",
    "        if len(tmpd) < 2:\n",
    "            continue\n",
    "        pre = tmpd[0].lower()\n",
    "        print(repr(tmpd))\n",
    "        dicts[pre] = tmpd[1]\n",
    "\n",
    "    link_list.append(links)\n",
    "    tieu_de_list.append(tit)\n",
    "    mtct_list.append(desp)\n",
    "    diachi_list.append(addr)\n",
    "    dict_list.append(dicts)\n",
    "    \n",
    "ff.close()"
   ]
  },
  {
   "cell_type": "code",
   "execution_count": 54,
   "metadata": {},
   "outputs": [
    {
     "data": {
      "text/plain": [
       "1"
      ]
     },
     "execution_count": 54,
     "metadata": {},
     "output_type": "execute_result"
    }
   ],
   "source": [
    "len(link_list)"
   ]
  },
  {
   "cell_type": "code",
   "execution_count": 49,
   "metadata": {},
   "outputs": [],
   "source": [
    "df = pd.DataFrame({'link':link_list, 'title':tieu_de_list, 'describe':mtct_list, 'address':diachi_list, 'dict': dict_list})\n",
    "df.to_csv('15823-20000.csv',index=None)"
   ]
  },
  {
   "cell_type": "code",
   "execution_count": null,
   "metadata": {},
   "outputs": [],
   "source": [
    "link = data.link[20001:25000]\n",
    "link"
   ]
  },
  {
   "cell_type": "code",
   "execution_count": null,
   "metadata": {},
   "outputs": [],
   "source": [
    "link_list = []\n",
    "tieu_de_list = []\n",
    "mtct_list = []\n",
    "diachi_list = []\n",
    "dict_list = []\n",
    "cnt = 0\n",
    "ff = webdriver.Firefox()\n",
    "\n",
    "\n",
    "for i in range(len(link)):\n",
    "    \n",
    "    links = link.values[i]\n",
    "    dicts = init_dict()\n",
    "    ff.get(links)\n",
    "    try:\n",
    "        ff.find_element_by_css_selector('.ctTooltipClose').click()\n",
    "    except:\n",
    "        i = 1\n",
    "        \n",
    "    time.sleep(1)\n",
    "    r = HTML(html = ff.page_source)\n",
    "\n",
    "    tmp = r.find('h1', first=True)\n",
    "    if tmp == None:\n",
    "        continue\n",
    "    tit = tmp.text\n",
    "    desp = get_description(r)\n",
    "    tmp = r.find('.media-body.media-middle')[0]\n",
    "    addr = tmp.text\n",
    "    \n",
    "    l = r.find('._1DTCXk4eb6dusdylsQxCos', first=True)\n",
    "    for i in l.find('span'):\n",
    "        tmpd = i.text.split(': ')\n",
    "        if len(tmpd) < 2:\n",
    "            continue\n",
    "        pre = tmpd[0].lower()\n",
    "        dicts[pre] = tmpd[1]\n",
    "\n",
    "    link_list.append(links)\n",
    "    tieu_de_list.append(tit)\n",
    "    mtct_list.append(desp)\n",
    "    diachi_list.append(addr)\n",
    "    dict_list.append(dicts)\n",
    "    \n",
    "ff.close()"
   ]
  },
  {
   "cell_type": "code",
   "execution_count": null,
   "metadata": {},
   "outputs": [],
   "source": [
    "df = pd.DataFrame({'link':link_list, 'title':tieu_de_list, 'describe':mtct_list, 'address':diachi_list, 'dict': dict_list})\n",
    "df.to_csv('20001-25000.csv',index=None)"
   ]
  },
  {
   "cell_type": "code",
   "execution_count": null,
   "metadata": {},
   "outputs": [],
   "source": [
    "link = data.link[10001:15000]\n",
    "link"
   ]
  },
  {
   "cell_type": "code",
   "execution_count": null,
   "metadata": {},
   "outputs": [],
   "source": [
    "link_list = []\n",
    "tieu_de_list = []\n",
    "mtct_list = []\n",
    "diachi_list = []\n",
    "dict_list = []\n",
    "cnt = 0\n",
    "ff = webdriver.Firefox()\n",
    "\n",
    "\n",
    "for i in range(len(link)):\n",
    "    \n",
    "    links = link.values[i]\n",
    "    dicts = init_dict()\n",
    "    ff.get(links)\n",
    "    try:\n",
    "        ff.find_element_by_css_selector('.ctTooltipClose').click()\n",
    "    except:\n",
    "        i = 1\n",
    "        \n",
    "    time.sleep(1)\n",
    "    r = HTML(html = ff.page_source)\n",
    "\n",
    "    tmp = r.find('h1', first=True)\n",
    "    if tmp == None:\n",
    "        continue\n",
    "    tit = tmp.text\n",
    "    desp = get_description(r)\n",
    "    tmp = r.find('.media-body.media-middle')[0]\n",
    "    addr = tmp.text\n",
    "    \n",
    "    l = r.find('._1DTCXk4eb6dusdylsQxCos', first=True)\n",
    "    for i in l.find('span'):\n",
    "        tmpd = i.text.split(': ')\n",
    "        pre = tmpd[0].lower()\n",
    "        dicts[pre] = tmpd[1]\n",
    "\n",
    "    link_list.append(links)\n",
    "    tieu_de_list.append(tit)\n",
    "    mtct_list.append(desp)\n",
    "    diachi_list.append(addr)\n",
    "    dict_list.append(dicts)\n",
    "    \n",
    "ff.close()"
   ]
  },
  {
   "cell_type": "code",
   "execution_count": null,
   "metadata": {},
   "outputs": [],
   "source": [
    "df = pd.DataFrame({'link':link_list, 'title':tieu_de_list, 'describe':mtct_list, 'address':diachi_list, 'dict': dict_list})\n",
    "df.to_csv('10001-15000.csv',index=None)"
   ]
  },
  {
   "cell_type": "code",
   "execution_count": null,
   "metadata": {},
   "outputs": [],
   "source": []
  }
 ],
 "metadata": {
  "kernelspec": {
   "display_name": "Python 3",
   "language": "python",
   "name": "python3"
  },
  "language_info": {
   "codemirror_mode": {
    "name": "ipython",
    "version": 3
   },
   "file_extension": ".py",
   "mimetype": "text/x-python",
   "name": "python",
   "nbconvert_exporter": "python",
   "pygments_lexer": "ipython3",
   "version": "3.7.5rc1"
  }
 },
 "nbformat": 4,
 "nbformat_minor": 4
}
