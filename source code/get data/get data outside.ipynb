{
 "cells": [
  {
   "cell_type": "code",
   "execution_count": 2,
   "metadata": {},
   "outputs": [],
   "source": [
    "from requests_html import HTML\n",
    "import selenium\n",
    "import datetime as dt\n",
    "from selenium import webdriver"
   ]
  },
  {
   "cell_type": "code",
   "execution_count": 3,
   "metadata": {},
   "outputs": [],
   "source": [
    "page = 'https://nha.chotot.com/tp-ho-chi-minh/mua-ban-nha-dat?page='"
   ]
  },
  {
   "cell_type": "code",
   "execution_count": 4,
   "metadata": {},
   "outputs": [],
   "source": [
    "# Hàm nhận vào link tới trang web.\n",
    "# Hàm trả ra Element chứa thông tin cần thiết.\n",
    "# \"Vì chotot sẽ có thông tin ưu tiên và cả thông tin bình thường,...\n",
    "# nên hàm sẽ trả về một tuple chứa thông tin ưu tiên trước, sau đó là thông tin bình thường\"\n",
    "def get_inform_from_page(link, num_page):\n",
    "    ff = webdriver.Firefox()\n",
    "    link = link + str(num_page)\n",
    "    ff.get(link)\n",
    "    # Bấm tắt thông báo hiện lên\n",
    "    ff.find_element_by_css_selector('.ctTooltipClose').click()\n",
    "    # Đổi giao diện để có thể thao tác dễ hơn\n",
    "    ff.find_element_by_css_selector('.glyphicon.glyphicon-th-large').click()\n",
    "    r = HTML(html=ff.page_source)\n",
    "    tin_bt = r.find('._3AO2qzWF3LGsnNA73I-RLF')\n",
    "    # tin_uu_tien = ff.find_element_by_class_name('ctAdLitingThumbnail')\n",
    "    ff.close()\n",
    "    return tin_bt"
   ]
  },
  {
   "cell_type": "code",
   "execution_count": 5,
   "metadata": {},
   "outputs": [],
   "source": [
    "# Thuộc tính bao gồm tựa đề, giá tiền, loại hình nhà (cá nhân hay môi giới hay bất động sản), \n",
    "# link tới bài viết cụ thể, thời gian đăng tin.\n",
    "#################################################################################################\n",
    "# Trong các bài viết cụ thể còn có các thuộc tính khác như:\n",
    "# - Diện tích\n",
    "# - Hướng cửa chính\n",
    "# - Số phòng vệ sinh\n",
    "# - Số tầng\n",
    "# - Loại hình nhà ở\n",
    "# - Giấy tờ pháp lý\n",
    "# - Đặc điểm nhà đất\n",
    "# - Địa chỉ cụ thể"
   ]
  },
  {
   "cell_type": "code",
   "execution_count": 6,
   "metadata": {},
   "outputs": [],
   "source": [
    "title1_list = []\n",
    "price_list = []\n",
    "title2_list = []\n",
    "type1_list = []\n",
    "time_list = []\n",
    "link_list = []"
   ]
  },
  {
   "cell_type": "code",
   "execution_count": 7,
   "metadata": {},
   "outputs": [
    {
     "name": "stdout",
     "output_type": "stream",
     "text": [
      "https://nha.chotot.com//tp-ho-chi-minh/quan-binh-thanh/mua-ban-nha-dat/65205571.htm\n",
      "https://nha.chotot.com//tp-ho-chi-minh/quan-12/mua-ban-nha-dat/65180994.htm\n",
      "https://nha.chotot.com//tp-ho-chi-minh/quan-11/mua-ban-nha-dat/65154888.htm\n",
      "https://nha.chotot.com//tp-ho-chi-minh/quan-phu-nhuan/mua-ban-nha-dat/65152444.htm\n",
      "https://nha.chotot.com//tp-ho-chi-minh/quan-12/mua-ban-nha-dat/64972427.htm\n",
      "https://nha.chotot.com//tp-ho-chi-minh/quan-go-vap/mua-ban-nha-dat/65141140.htm\n",
      "https://nha.chotot.com//tp-ho-chi-minh/quan-thu-duc/mua-ban-nha-dat/65132119.htm\n",
      "https://nha.chotot.com//tp-ho-chi-minh/huyen-hoc-mon/mua-ban-nha-dat/65120432.htm\n",
      "https://nha.chotot.com//tp-ho-chi-minh/huyen-hoc-mon/mua-ban-nha-dat/65113606.htm\n",
      "https://nha.chotot.com//tp-ho-chi-minh/huyen-binh-chanh/mua-ban-nha-dat/65100494.htm\n",
      "https://nha.chotot.com//tp-ho-chi-minh/quan-3/mua-ban-nha-dat/65099099.htm\n",
      "https://nha.chotot.com//tp-ho-chi-minh/quan-thu-duc/mua-ban-nha-dat/65092091.htm\n",
      "https://nha.chotot.com//tp-ho-chi-minh/quan-go-vap/mua-ban-nha-dat/65089104.htm\n",
      "https://nha.chotot.com//tp-ho-chi-minh/quan-5/mua-ban-nha-dat/65077587.htm\n",
      "https://nha.chotot.com//tp-ho-chi-minh/quan-1/mua-ban-nha-dat/63865275.htm\n",
      "https://nha.chotot.com//tp-ho-chi-minh/quan-binh-thanh/mua-ban-nha-dat/65069748.htm\n",
      "https://nha.chotot.com//tp-ho-chi-minh/quan-7/mua-ban-nha-dat/65062935.htm\n",
      "https://nha.chotot.com//tp-ho-chi-minh/huyen-cu-chi/mua-ban-nha-dat/65016171.htm\n",
      "https://nha.chotot.com//tp-ho-chi-minh/quan-thu-duc/mua-ban-nha-dat/65059160.htm\n",
      "https://nha.chotot.com//tp-ho-chi-minh/quan-binh-tan/mua-ban-nha-dat/65061966.htm\n",
      "https://nha.chotot.com//tp-ho-chi-minh/quan-12/mua-ban-nha-dat/65061949.htm\n",
      "https://nha.chotot.com//tp-ho-chi-minh/quan-phu-nhuan/mua-ban-nha-dat/64808810.htm\n"
     ]
    }
   ],
   "source": [
    "link_prefit = 'https://nha.chotot.com/'\n",
    "for ind in range(500,1000):\n",
    "    try:\n",
    "        thong_thuong = get_inform_from_page(page, ind)\n",
    "        n = len(thong_thuong)\n",
    "        for i in range(n):\n",
    "            # Lấy link dắt tới thông tin cụ thể\n",
    "            link = thong_thuong[i].find('a', first=True).attrs['href']\n",
    "            link = link_prefit + link\n",
    "            try:\n",
    "                #Title 1 là title của bài viết.\n",
    "                title1 = thong_thuong[i].find('h4', first=True).text\n",
    "                #Price là giá tiền của căn nhà đó.\n",
    "                price = thong_thuong[i].find('p', first=True).text\n",
    "                #Title 2 là title của ảnh.\n",
    "                title2 = thong_thuong[i].find('img')[0].attrs['alt']\n",
    "                # Type là loại hình mua bán, cá nhân, môi giới??\n",
    "                type1 = thong_thuong[i].find('img')[1].attrs['alt']\n",
    "                # Time sẽ là thời gian đăng tin, Time ở trên trang web sẽ ghi là 1 ngày trước, 1 phút trước, ...\n",
    "                # Nên ta sẽ trích thời gian hiện tại và trừ ra khoảng thời gian đó để có được thời gian đăng tin.\n",
    "                time = dt.datetime.now()\n",
    "                time_text = thong_thuong[i].find('span')\n",
    "                time_text = time_text[-1].text\n",
    "                try:\n",
    "                    diff = int(time_text.split(' ')[0])\n",
    "                    if 'phút' in time_text.lower():\n",
    "                        time = time - dt.timedelta(minutes=diff)\n",
    "                    elif 'giờ' in time_text.lower():\n",
    "                        time = time - dt.timedelta(hours=diff)\n",
    "                    elif 'ngày' in time_text.lower():\n",
    "                        time = time - dt.timedelta(date=diff)\n",
    "                    elif 'tháng' in time_text.lower():\n",
    "                        time = time - dt.timedelta(months=diff)\n",
    "                except:\n",
    "                    time = None\n",
    "\n",
    "                title1_list.append(title1)\n",
    "                title2_list.append(title2)x\n",
    "                price_list.append(price)\n",
    "                type1_list.append(type1)\n",
    "                time_list.append(time)\n",
    "                link_list.append(link)\n",
    "            except:\n",
    "                print(link)\n",
    "    except:\n",
    "        print(ind)"
   ]
  },
  {
   "cell_type": "code",
   "execution_count": 8,
   "metadata": {},
   "outputs": [
    {
     "name": "stdout",
     "output_type": "stream",
     "text": [
      "9978\n"
     ]
    }
   ],
   "source": [
    "print(len(link_list))\n",
    "import pandas as pd\n",
    "data = pd.DataFrame({'title1':title1_list, 'title2':title2_list, 'price': price_list, 'type':type1_list, 'time': time_list, 'link':link_list})\n",
    "data.to_csv('data-full.csv', index=None)"
   ]
  },
  {
   "cell_type": "code",
   "execution_count": null,
   "metadata": {},
   "outputs": [],
   "source": []
  }
 ],
 "metadata": {
  "kernelspec": {
   "display_name": "Python 3",
   "language": "python",
   "name": "python3"
  },
  "language_info": {
   "codemirror_mode": {
    "name": "ipython",
    "version": 3
   },
   "file_extension": ".py",
   "mimetype": "text/x-python",
   "name": "python",
   "nbconvert_exporter": "python",
   "pygments_lexer": "ipython3",
   "version": "3.7.1"
  }
 },
 "nbformat": 4,
 "nbformat_minor": 4
}
