{
 "cells": [
  {
   "cell_type": "code",
   "execution_count": null,
   "metadata": {},
   "outputs": [],
   "source": [
    "import numpy as np\n",
    "import pandas as pd"
   ]
  },
  {
   "cell_type": "code",
   "execution_count": null,
   "metadata": {},
   "outputs": [],
   "source": [
    "inner = pd.read_csv('inner.csv')\n",
    "outer = pd.read_csv('outer.csv')"
   ]
  },
  {
   "cell_type": "code",
   "execution_count": null,
   "metadata": {},
   "outputs": [],
   "source": [
    "cols = ['title', 'describe', 'address', 'dict']\n",
    "for i in cols:\n",
    "    outer[cols] = outer['link']\n",
    "    \n",
    "for i in range(outer.shape[0]):\n",
    "    tmp = inner[inner.link == outer.link.values[i]]\n",
    "    for col in cols:\n",
    "        outer[col].values[i] =  tmp[col].values[0]\n",
    "        \n",
    "outer.to_csv('full.csv', index=None)"
   ]
  }
 ],
 "metadata": {
  "kernelspec": {
   "display_name": "Python 3",
   "language": "python",
   "name": "python3"
  },
  "language_info": {
   "codemirror_mode": {
    "name": "ipython",
    "version": 3
   },
   "file_extension": ".py",
   "mimetype": "text/x-python",
   "name": "python",
   "nbconvert_exporter": "python",
   "pygments_lexer": "ipython3",
   "version": "3.7.2"
  }
 },
 "nbformat": 4,
 "nbformat_minor": 2
}
